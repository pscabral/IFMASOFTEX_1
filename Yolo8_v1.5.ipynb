{
  "nbformat": 4,
  "nbformat_minor": 0,
  "metadata": {
    "colab": {
      "provenance": [],
      "machine_shape": "hm",
      "authorship_tag": "ABX9TyODVcIJ242qdUr/cY/u5udF",
      "include_colab_link": true
    },
    "kernelspec": {
      "name": "python3",
      "display_name": "Python 3"
    },
    "language_info": {
      "name": "python"
    },
    "widgets": {
      "application/vnd.jupyter.widget-state+json": {
        "bfa06aaa2ccf4a9bbac3d6068ae4418e": {
          "model_module": "@jupyter-widgets/controls",
          "model_name": "HBoxModel",
          "model_module_version": "1.5.0",
          "state": {
            "_dom_classes": [],
            "_model_module": "@jupyter-widgets/controls",
            "_model_module_version": "1.5.0",
            "_model_name": "HBoxModel",
            "_view_count": null,
            "_view_module": "@jupyter-widgets/controls",
            "_view_module_version": "1.5.0",
            "_view_name": "HBoxView",
            "box_style": "",
            "children": [
              "IPY_MODEL_c5f75a5bf7dd41aea6d8001e08dcf0d8",
              "IPY_MODEL_1820d08fde654cbdbddd127b5087c98d",
              "IPY_MODEL_ed09d8852dc64050acf77a84968011c7"
            ],
            "layout": "IPY_MODEL_49a19de5b0734b7e82e3f5d4b09c8d25"
          }
        },
        "c5f75a5bf7dd41aea6d8001e08dcf0d8": {
          "model_module": "@jupyter-widgets/controls",
          "model_name": "HTMLModel",
          "model_module_version": "1.5.0",
          "state": {
            "_dom_classes": [],
            "_model_module": "@jupyter-widgets/controls",
            "_model_module_version": "1.5.0",
            "_model_name": "HTMLModel",
            "_view_count": null,
            "_view_module": "@jupyter-widgets/controls",
            "_view_module_version": "1.5.0",
            "_view_name": "HTMLView",
            "description": "",
            "description_tooltip": null,
            "layout": "IPY_MODEL_cec0ba37c6f8450689ae5275e3f5cbcd",
            "placeholder": "​",
            "style": "IPY_MODEL_e5c623de291f4dfda0f1235a971e4e70",
            "value": "100%"
          }
        },
        "1820d08fde654cbdbddd127b5087c98d": {
          "model_module": "@jupyter-widgets/controls",
          "model_name": "FloatProgressModel",
          "model_module_version": "1.5.0",
          "state": {
            "_dom_classes": [],
            "_model_module": "@jupyter-widgets/controls",
            "_model_module_version": "1.5.0",
            "_model_name": "FloatProgressModel",
            "_view_count": null,
            "_view_module": "@jupyter-widgets/controls",
            "_view_module_version": "1.5.0",
            "_view_name": "ProgressView",
            "bar_style": "success",
            "description": "",
            "description_tooltip": null,
            "layout": "IPY_MODEL_ac46aab696624a16b90ed43e4d3fd6b0",
            "max": 393,
            "min": 0,
            "orientation": "horizontal",
            "style": "IPY_MODEL_444288d07bda4050912b634171286550",
            "value": 393
          }
        },
        "ed09d8852dc64050acf77a84968011c7": {
          "model_module": "@jupyter-widgets/controls",
          "model_name": "HTMLModel",
          "model_module_version": "1.5.0",
          "state": {
            "_dom_classes": [],
            "_model_module": "@jupyter-widgets/controls",
            "_model_module_version": "1.5.0",
            "_model_name": "HTMLModel",
            "_view_count": null,
            "_view_module": "@jupyter-widgets/controls",
            "_view_module_version": "1.5.0",
            "_view_name": "HTMLView",
            "description": "",
            "description_tooltip": null,
            "layout": "IPY_MODEL_3d98a322ad3d4ddb9a7e90ef1527733b",
            "placeholder": "​",
            "style": "IPY_MODEL_7da7d5732188440c8c4f18fe064cafdc",
            "value": " 393/393 [00:02&lt;00:00, 143.56it/s]"
          }
        },
        "49a19de5b0734b7e82e3f5d4b09c8d25": {
          "model_module": "@jupyter-widgets/base",
          "model_name": "LayoutModel",
          "model_module_version": "1.2.0",
          "state": {
            "_model_module": "@jupyter-widgets/base",
            "_model_module_version": "1.2.0",
            "_model_name": "LayoutModel",
            "_view_count": null,
            "_view_module": "@jupyter-widgets/base",
            "_view_module_version": "1.2.0",
            "_view_name": "LayoutView",
            "align_content": null,
            "align_items": null,
            "align_self": null,
            "border": null,
            "bottom": null,
            "display": null,
            "flex": null,
            "flex_flow": null,
            "grid_area": null,
            "grid_auto_columns": null,
            "grid_auto_flow": null,
            "grid_auto_rows": null,
            "grid_column": null,
            "grid_gap": null,
            "grid_row": null,
            "grid_template_areas": null,
            "grid_template_columns": null,
            "grid_template_rows": null,
            "height": null,
            "justify_content": null,
            "justify_items": null,
            "left": null,
            "margin": null,
            "max_height": null,
            "max_width": null,
            "min_height": null,
            "min_width": null,
            "object_fit": null,
            "object_position": null,
            "order": null,
            "overflow": null,
            "overflow_x": null,
            "overflow_y": null,
            "padding": null,
            "right": null,
            "top": null,
            "visibility": null,
            "width": null
          }
        },
        "cec0ba37c6f8450689ae5275e3f5cbcd": {
          "model_module": "@jupyter-widgets/base",
          "model_name": "LayoutModel",
          "model_module_version": "1.2.0",
          "state": {
            "_model_module": "@jupyter-widgets/base",
            "_model_module_version": "1.2.0",
            "_model_name": "LayoutModel",
            "_view_count": null,
            "_view_module": "@jupyter-widgets/base",
            "_view_module_version": "1.2.0",
            "_view_name": "LayoutView",
            "align_content": null,
            "align_items": null,
            "align_self": null,
            "border": null,
            "bottom": null,
            "display": null,
            "flex": null,
            "flex_flow": null,
            "grid_area": null,
            "grid_auto_columns": null,
            "grid_auto_flow": null,
            "grid_auto_rows": null,
            "grid_column": null,
            "grid_gap": null,
            "grid_row": null,
            "grid_template_areas": null,
            "grid_template_columns": null,
            "grid_template_rows": null,
            "height": null,
            "justify_content": null,
            "justify_items": null,
            "left": null,
            "margin": null,
            "max_height": null,
            "max_width": null,
            "min_height": null,
            "min_width": null,
            "object_fit": null,
            "object_position": null,
            "order": null,
            "overflow": null,
            "overflow_x": null,
            "overflow_y": null,
            "padding": null,
            "right": null,
            "top": null,
            "visibility": null,
            "width": null
          }
        },
        "e5c623de291f4dfda0f1235a971e4e70": {
          "model_module": "@jupyter-widgets/controls",
          "model_name": "DescriptionStyleModel",
          "model_module_version": "1.5.0",
          "state": {
            "_model_module": "@jupyter-widgets/controls",
            "_model_module_version": "1.5.0",
            "_model_name": "DescriptionStyleModel",
            "_view_count": null,
            "_view_module": "@jupyter-widgets/base",
            "_view_module_version": "1.2.0",
            "_view_name": "StyleView",
            "description_width": ""
          }
        },
        "ac46aab696624a16b90ed43e4d3fd6b0": {
          "model_module": "@jupyter-widgets/base",
          "model_name": "LayoutModel",
          "model_module_version": "1.2.0",
          "state": {
            "_model_module": "@jupyter-widgets/base",
            "_model_module_version": "1.2.0",
            "_model_name": "LayoutModel",
            "_view_count": null,
            "_view_module": "@jupyter-widgets/base",
            "_view_module_version": "1.2.0",
            "_view_name": "LayoutView",
            "align_content": null,
            "align_items": null,
            "align_self": null,
            "border": null,
            "bottom": null,
            "display": null,
            "flex": null,
            "flex_flow": null,
            "grid_area": null,
            "grid_auto_columns": null,
            "grid_auto_flow": null,
            "grid_auto_rows": null,
            "grid_column": null,
            "grid_gap": null,
            "grid_row": null,
            "grid_template_areas": null,
            "grid_template_columns": null,
            "grid_template_rows": null,
            "height": null,
            "justify_content": null,
            "justify_items": null,
            "left": null,
            "margin": null,
            "max_height": null,
            "max_width": null,
            "min_height": null,
            "min_width": null,
            "object_fit": null,
            "object_position": null,
            "order": null,
            "overflow": null,
            "overflow_x": null,
            "overflow_y": null,
            "padding": null,
            "right": null,
            "top": null,
            "visibility": null,
            "width": null
          }
        },
        "444288d07bda4050912b634171286550": {
          "model_module": "@jupyter-widgets/controls",
          "model_name": "ProgressStyleModel",
          "model_module_version": "1.5.0",
          "state": {
            "_model_module": "@jupyter-widgets/controls",
            "_model_module_version": "1.5.0",
            "_model_name": "ProgressStyleModel",
            "_view_count": null,
            "_view_module": "@jupyter-widgets/base",
            "_view_module_version": "1.2.0",
            "_view_name": "StyleView",
            "bar_color": null,
            "description_width": ""
          }
        },
        "3d98a322ad3d4ddb9a7e90ef1527733b": {
          "model_module": "@jupyter-widgets/base",
          "model_name": "LayoutModel",
          "model_module_version": "1.2.0",
          "state": {
            "_model_module": "@jupyter-widgets/base",
            "_model_module_version": "1.2.0",
            "_model_name": "LayoutModel",
            "_view_count": null,
            "_view_module": "@jupyter-widgets/base",
            "_view_module_version": "1.2.0",
            "_view_name": "LayoutView",
            "align_content": null,
            "align_items": null,
            "align_self": null,
            "border": null,
            "bottom": null,
            "display": null,
            "flex": null,
            "flex_flow": null,
            "grid_area": null,
            "grid_auto_columns": null,
            "grid_auto_flow": null,
            "grid_auto_rows": null,
            "grid_column": null,
            "grid_gap": null,
            "grid_row": null,
            "grid_template_areas": null,
            "grid_template_columns": null,
            "grid_template_rows": null,
            "height": null,
            "justify_content": null,
            "justify_items": null,
            "left": null,
            "margin": null,
            "max_height": null,
            "max_width": null,
            "min_height": null,
            "min_width": null,
            "object_fit": null,
            "object_position": null,
            "order": null,
            "overflow": null,
            "overflow_x": null,
            "overflow_y": null,
            "padding": null,
            "right": null,
            "top": null,
            "visibility": null,
            "width": null
          }
        },
        "7da7d5732188440c8c4f18fe064cafdc": {
          "model_module": "@jupyter-widgets/controls",
          "model_name": "DescriptionStyleModel",
          "model_module_version": "1.5.0",
          "state": {
            "_model_module": "@jupyter-widgets/controls",
            "_model_module_version": "1.5.0",
            "_model_name": "DescriptionStyleModel",
            "_view_count": null,
            "_view_module": "@jupyter-widgets/base",
            "_view_module_version": "1.2.0",
            "_view_name": "StyleView",
            "description_width": ""
          }
        }
      }
    }
  },
  "cells": [
    {
      "cell_type": "markdown",
      "metadata": {
        "id": "view-in-github",
        "colab_type": "text"
      },
      "source": [
        "<a href=\"https://colab.research.google.com/github/pscabral/IFMASOFTEX_1/blob/main/Yolo8_v1.5.ipynb\" target=\"_parent\"><img src=\"https://colab.research.google.com/assets/colab-badge.svg\" alt=\"Open In Colab\"/></a>"
      ]
    },
    {
      "cell_type": "code",
      "execution_count": null,
      "metadata": {
        "id": "rh7pTKaLRUSy"
      },
      "outputs": [],
      "source": [
        "!pip install mega.py\n",
        "\n",
        "from mega import Mega\n",
        "\n",
        "# Crie uma instância da classe Mega\n",
        "mega = Mega()\n",
        "\n",
        "# Cole o link completo do Mega.nz (incluindo a chave)\n",
        "url = \"https://mega.nz/file/07dU2JqA#E0Y2NKwrYZm2uEPalkosVOqjteuuVjRvrfMSVcAajUg\"\n",
        "\n",
        "# Use o link completo para fazer o download\n",
        "mega.download_url(url)\n",
        "\n",
        "!unzip GrocerEyeYOLOv5v2.v1-2x-amount.yolov8.zip"
      ]
    },
    {
      "cell_type": "code",
      "source": [
        "!pip install ultralytics"
      ],
      "metadata": {
        "id": "qSyT5p8qRgVJ"
      },
      "execution_count": null,
      "outputs": []
    },
    {
      "cell_type": "code",
      "source": [
        "import os\n",
        "import random\n",
        "import pandas as pd\n",
        "from PIL import Image\n",
        "import cv2\n",
        "from ultralytics import YOLO\n",
        "from IPython.display import Video\n",
        "import numpy as np\n",
        "import matplotlib.pyplot as plt\n",
        "import seaborn as sns\n",
        "sns.set(style='darkgrid')\n",
        "import pathlib\n",
        "import glob\n",
        "from tqdm.notebook import trange, tqdm\n",
        "import warnings\n",
        "warnings.filterwarnings('ignore')\n",
        "import shutil\n",
        "from shutil import copyfile\n",
        "import matplotlib.pyplot as plt\n",
        "from matplotlib import animation, rc\n",
        "rc('animation', html='jshtml')\n",
        "from PIL import Image"
      ],
      "metadata": {
        "id": "SrOSUGwSRhV6"
      },
      "execution_count": 3,
      "outputs": []
    },
    {
      "cell_type": "code",
      "source": [
        "Image_dir = '/content/GrocerEyeYOLOv5v2.v1/train/images'\n",
        "\n",
        "num_samples = 9\n",
        "image_files = os.listdir(Image_dir)\n",
        "\n",
        "# Randomly select num_samples images\n",
        "rand_images = random.sample(image_files, num_samples)\n",
        "\n",
        "fig, axes = plt.subplots(3, 3, figsize=(11, 11))\n",
        "\n",
        "for i in range(num_samples):\n",
        "    image = rand_images[i]\n",
        "    ax = axes[i // 3, i % 3]\n",
        "    ax.imshow(plt.imread(os.path.join(Image_dir, image)))\n",
        "    ax.set_title(f'Image {i+1}')\n",
        "    ax.axis('off')\n",
        "\n",
        "plt.tight_layout()\n",
        "plt.show()"
      ],
      "metadata": {
        "id": "rJWxwKa_RhYm"
      },
      "execution_count": null,
      "outputs": []
    },
    {
      "cell_type": "code",
      "source": [
        "image = cv2.imread(\"/content/GrocerEyeYOLOv5v2.v1/train/images/BEANS0000_png.rf.70a7651ec6853dc29b6e0e69b33d872c.jpg\")\n",
        "h, w, c = image.shape\n",
        "print(f\"The image has dimensions {w}x{h} and {c} channels.\")"
      ],
      "metadata": {
        "id": "vBpJOCHERhbN",
        "colab": {
          "base_uri": "https://localhost:8080/"
        },
        "outputId": "4281086e-ec59-4557-d8e9-bf99b4b2a8a6"
      },
      "execution_count": 5,
      "outputs": [
        {
          "output_type": "stream",
          "name": "stdout",
          "text": [
            "The image has dimensions 640x640 and 3 channels.\n"
          ]
        }
      ]
    },
    {
      "cell_type": "code",
      "source": [
        "model = YOLO(\"yolov8n.pt\")\n",
        "\n",
        "# Use the model to detect object\n",
        "image = \"/content/GrocerEyeYOLOv5v2.v1/train/images/BEANS0000_png.rf.70a7651ec6853dc29b6e0e69b33d872c.jpg\"\n",
        "result_predict = model.predict(source = image, imgsz=(416))\n",
        "\n",
        "# show results\n",
        "plot = result_predict[0].plot()\n",
        "plot = cv2.cvtColor(plot, cv2.COLOR_BGR2RGB)\n",
        "display(Image.fromarray(plot))"
      ],
      "metadata": {
        "id": "RAoJ1zX0Rhd_"
      },
      "execution_count": null,
      "outputs": []
    },
    {
      "cell_type": "code",
      "source": [
        "pip install -U albumentations"
      ],
      "metadata": {
        "id": "LiNVONh_tIVo"
      },
      "execution_count": null,
      "outputs": []
    },
    {
      "cell_type": "code",
      "source": [
        "import albumentations as A\n",
        "import cv2\n",
        "\n",
        "# Declare an augmentation pipeline\n",
        "transform = A.Compose([\n",
        "    A.RandomCrop(width=256, height=256),\n",
        "    A.HorizontalFlip(p=0.5),\n",
        "    A.RandomBrightnessContrast(p=0.2),\n",
        "])\n",
        "\n",
        "# Read an image with OpenCV and convert it to the RGB colorspace\n",
        "image = cv2.imread(\"/content/GrocerEyeYOLOv5v2.v1/train/images/BEANS0000_png.rf.70a7651ec6853dc29b6e0e69b33d872c.jpg\")\n",
        "image = cv2.cvtColor(image, cv2.COLOR_BGR2RGB)\n",
        "\n",
        "# Augment an image\n",
        "transformed = transform(image=image)\n",
        "transformed_image = transformed[\"image\"]"
      ],
      "metadata": {
        "id": "sMA6PeUOtSxj"
      },
      "execution_count": 8,
      "outputs": []
    },
    {
      "cell_type": "code",
      "source": [
        "Final_model = YOLO('yolov8n.pt')\n",
        "Result_Final_model = Final_model.train(data=\"/content/GrocerEyeYOLOv5v2.v1/data.yaml\", epochs=50, imgsz=416, batch=64, lr0=0.0001, dropout=0.15, device='cpu')\n"
      ],
      "metadata": {
        "id": "CRkc1V26SNjD"
      },
      "execution_count": null,
      "outputs": []
    },
    {
      "cell_type": "code",
      "source": [
        "print('result of training')\n",
        "tpaths2=[]\n",
        "for dirname, _, filenames in os.walk('/content/runs/detect/train'):\n",
        "    for filename in filenames:\n",
        "        if filename[-4:]=='.png' or filename[-4:]=='.jpg':\n",
        "            tpaths2+=[(os.path.join(dirname, filename))]\n",
        "tpaths2=sorted(tpaths2)\n",
        "print(tpaths2[0])"
      ],
      "metadata": {
        "colab": {
          "base_uri": "https://localhost:8080/"
        },
        "id": "WwK7aj8x8lL1",
        "outputId": "45652f3c-f312-41cc-922a-4bd7a90afa33"
      },
      "execution_count": 10,
      "outputs": [
        {
          "output_type": "stream",
          "name": "stdout",
          "text": [
            "result of training\n",
            "/content/runs/detect/train/F1_curve.png\n"
          ]
        }
      ]
    },
    {
      "cell_type": "code",
      "source": [
        "for path in tpaths2:\n",
        "    image = Image.open(path)\n",
        "    image=np.array(image)\n",
        "    plt.figure(figsize=(20,10))\n",
        "    plt.imshow(image)\n",
        "    plt.show()"
      ],
      "metadata": {
        "id": "J-SF8RZ38lOo"
      },
      "execution_count": null,
      "outputs": []
    },
    {
      "cell_type": "code",
      "source": [
        "print('Predict')\n",
        "best_path0='runs/detect/train/weights/best.pt'\n",
        "source0='/content/GrocerEyeYOLOv5v2.v1/test/images'"
      ],
      "metadata": {
        "colab": {
          "base_uri": "https://localhost:8080/"
        },
        "id": "2dv8g3Te8lRs",
        "outputId": "7841424d-8e7d-46f1-f87d-41d5cb256e2e"
      },
      "execution_count": 12,
      "outputs": [
        {
          "output_type": "stream",
          "name": "stdout",
          "text": [
            "Predict\n"
          ]
        }
      ]
    },
    {
      "cell_type": "code",
      "source": [
        "ppaths=[]\n",
        "for dirname, _, filenames in os.walk(source0):\n",
        "    for filename in filenames:\n",
        "        if filename[-4:]=='.jpg':\n",
        "            ppaths+=[(os.path.join(dirname, filename))]\n",
        "ppaths=sorted(ppaths)\n",
        "print(ppaths[0])"
      ],
      "metadata": {
        "colab": {
          "base_uri": "https://localhost:8080/"
        },
        "id": "ZxYgVQHj8lUY",
        "outputId": "11870b1a-69c8-4f00-a747-3b53de889f44"
      },
      "execution_count": 13,
      "outputs": [
        {
          "output_type": "stream",
          "name": "stdout",
          "text": [
            "/content/GrocerEyeYOLOv5v2.v1/test/images/BEANS0005_png.rf.7a3b05005d9993f1288f5551f39fa9c8.jpg\n"
          ]
        }
      ]
    },
    {
      "cell_type": "code",
      "source": [
        "model2 = YOLO(best_path0)\n",
        "print('yolo task=detect mode=predict')"
      ],
      "metadata": {
        "colab": {
          "base_uri": "https://localhost:8080/"
        },
        "id": "-iydv0FB8lXA",
        "outputId": "1c825d48-b5c3-47de-ac28-78d857e0477e"
      },
      "execution_count": 14,
      "outputs": [
        {
          "output_type": "stream",
          "name": "stdout",
          "text": [
            "yolo task=detect mode=predict\n"
          ]
        }
      ]
    },
    {
      "cell_type": "code",
      "source": [
        "!yolo task=detect mode=predict model={best_path0} conf=0.4 source={source0}"
      ],
      "metadata": {
        "id": "tDvbyveq8lcV"
      },
      "execution_count": null,
      "outputs": []
    },
    {
      "cell_type": "code",
      "source": [
        "print('Result of Prediction')\n",
        "results = model2.predict(source0,conf=0.4)\n",
        "print(len(results))"
      ],
      "metadata": {
        "id": "UH8xMLw-JZia"
      },
      "execution_count": null,
      "outputs": []
    },
    {
      "cell_type": "code",
      "source": [
        "PBOX=pd.DataFrame(columns=range(6))\n",
        "for i in range(len(results)):\n",
        "    arri=pd.DataFrame(results[i].boxes.data).astype(float)\n",
        "    path=ppaths[i]\n",
        "    file=path.split('/')[-1]\n",
        "    arri=arri.assign(file=file)\n",
        "    arri=arri.assign(i=i)\n",
        "    PBOX=pd.concat([PBOX,arri],axis=0)\n",
        "PBOX.columns=['x','y','x2','y2','confidence','class','file','i']\n",
        "display(PBOX)"
      ],
      "metadata": {
        "id": "WfealxI2Ki71"
      },
      "execution_count": null,
      "outputs": []
    },
    {
      "cell_type": "code",
      "source": [
        "class_map = {\n",
        "    0: 'beans',\n",
        "    1: 'candy',\n",
        "    2: 'cereal',\n",
        "    3: 'chips',\n",
        "    4: 'chocolate',\n",
        "    5: 'coffee',\n",
        "    6: 'fish',\n",
        "    7: 'honey',\n",
        "    8: 'jam',\n",
        "    9: 'juice',\n",
        "    10: 'milk',\n",
        "    11: 'nuts',\n",
        "    12: 'pasta',\n",
        "    13: 'soda',\n",
        "    14: 'spices',\n",
        "    15: 'sugar',\n",
        "    16: 'tea',\n",
        "    17: 'water'\n",
        "}"
      ],
      "metadata": {
        "id": "qktSEqx1yFQg"
      },
      "execution_count": 18,
      "outputs": []
    },
    {
      "cell_type": "code",
      "source": [
        "PBOX['class'] = PBOX['class'].apply(lambda x: class_map[int(x)])\n",
        "PBOX = PBOX.reset_index(drop=True)\n",
        "display(PBOX)\n",
        "display(PBOX['class'].value_counts())"
      ],
      "metadata": {
        "id": "Ylo9B_eOKjCz"
      },
      "execution_count": null,
      "outputs": []
    },
    {
      "cell_type": "code",
      "source": [
        "def draw_box2(n0):\n",
        "\n",
        "    ipath=ppaths[n0]\n",
        "    image=cv2.imread(ipath)\n",
        "    H,W=image.shape[0],image.shape[1]\n",
        "    file=ipath.split('/')[-1]\n",
        "\n",
        "    if PBOX[PBOX['file']==file] is not None:\n",
        "        box=PBOX[PBOX['file']==file]\n",
        "        box=box.reset_index(drop=True)\n",
        "        #display(box)\n",
        "\n",
        "        for i in range(len(box)):\n",
        "            label=box.loc[i,'class']\n",
        "            x=int(box.loc[i,'x'])\n",
        "            y=int(box.loc[i,'y'])\n",
        "            x2=int(box.loc[i,'x2'])\n",
        "            y2=int(box.loc[i,'y2'])\n",
        "            #print(label,x,y,x2,y2)\n",
        "            cv2.putText(image, f'{label}', (x, int(y-4)),\n",
        "                        cv2.FONT_HERSHEY_SIMPLEX, 1.0, (0,255,0),2)\n",
        "            cv2.rectangle(image,(x,y),(x2,y2),(0,255,0),2) #green\n",
        "\n",
        "    #plt.imshow(image)\n",
        "    #plt.show()\n",
        "\n",
        "    return image"
      ],
      "metadata": {
        "id": "LkikJohL8le5"
      },
      "execution_count": 20,
      "outputs": []
    },
    {
      "cell_type": "code",
      "source": [
        "def create_animation(ims):\n",
        "    fig=plt.figure(figsize=(12,8))\n",
        "    im=plt.imshow(cv2.cvtColor(ims[0],cv2.COLOR_BGR2RGB))\n",
        "    text = plt.text(0.05, 0.05, f'Slide {0}', transform=fig.transFigure, fontsize=14, color='blue')\n",
        "    plt.axis('off')\n",
        "    plt.close()\n",
        "\n",
        "    def animate_func(i):\n",
        "        im.set_array(cv2.cvtColor(ims[i],cv2.COLOR_BGR2RGB))\n",
        "        text.set_text(f'Slide {20+i}')\n",
        "        return [im]\n",
        "\n",
        "    return animation.FuncAnimation(fig, animate_func, frames=len(ims), interval=1000)"
      ],
      "metadata": {
        "id": "UtNWV8Kg8lhf"
      },
      "execution_count": 21,
      "outputs": []
    },
    {
      "cell_type": "code",
      "source": [
        "images2=[]\n",
        "for i in tqdm(range(len(ppaths))):\n",
        "    images2+=[draw_box2(i)]"
      ],
      "metadata": {
        "colab": {
          "base_uri": "https://localhost:8080/",
          "height": 49,
          "referenced_widgets": [
            "bfa06aaa2ccf4a9bbac3d6068ae4418e",
            "c5f75a5bf7dd41aea6d8001e08dcf0d8",
            "1820d08fde654cbdbddd127b5087c98d",
            "ed09d8852dc64050acf77a84968011c7",
            "49a19de5b0734b7e82e3f5d4b09c8d25",
            "cec0ba37c6f8450689ae5275e3f5cbcd",
            "e5c623de291f4dfda0f1235a971e4e70",
            "ac46aab696624a16b90ed43e4d3fd6b0",
            "444288d07bda4050912b634171286550",
            "3d98a322ad3d4ddb9a7e90ef1527733b",
            "7da7d5732188440c8c4f18fe064cafdc"
          ]
        },
        "id": "zrnzJfSL8ljw",
        "outputId": "9bb5a8da-8614-4bf5-90fa-aa280c83a9db"
      },
      "execution_count": 22,
      "outputs": [
        {
          "output_type": "display_data",
          "data": {
            "text/plain": [
              "  0%|          | 0/393 [00:00<?, ?it/s]"
            ],
            "application/vnd.jupyter.widget-view+json": {
              "version_major": 2,
              "version_minor": 0,
              "model_id": "bfa06aaa2ccf4a9bbac3d6068ae4418e"
            }
          },
          "metadata": {}
        }
      ]
    },
    {
      "cell_type": "code",
      "source": [
        "create_animation(images2)"
      ],
      "metadata": {
        "id": "nxo3B6UCJ-qF"
      },
      "execution_count": null,
      "outputs": []
    }
  ]
}