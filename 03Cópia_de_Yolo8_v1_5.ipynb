{
  "cells": [
    {
      "cell_type": "markdown",
      "metadata": {
        "id": "view-in-github",
        "colab_type": "text"
      },
      "source": [
        "<a href=\"https://colab.research.google.com/github/pscabral/IFMASOFTEX_1/blob/main/03C%C3%B3pia_de_Yolo8_v1_5.ipynb\" target=\"_parent\"><img src=\"https://colab.research.google.com/assets/colab-badge.svg\" alt=\"Open In Colab\"/></a>"
      ]
    },
    {
      "cell_type": "code",
      "execution_count": null,
      "metadata": {
        "id": "rh7pTKaLRUSy"
      },
      "outputs": [],
      "source": [
        "!pip install mega.py\n",
        "\n",
        "from mega import Mega\n",
        "\n",
        "# Crie uma instância da classe Mega\n",
        "mega = Mega()\n",
        "\n",
        "# Cole o link completo do Mega.nz (incluindo a chave)\n",
        "url = \"https://mega.nz/file/Z7MnySAb#uZgRKgkpT5JZkqgKSIpyamzqNq0br6j90P6ItBTrICM\"\n",
        "\n",
        "# Use o link completo para fazer o download\n",
        "mega.download_url(url)\n",
        "\n",
        "!unzip po.v5i.yolov8.zip"
      ]
    },
    {
      "cell_type": "code",
      "source": [
        "!pip install ultralytics"
      ],
      "metadata": {
        "id": "HjDU8ZMkmhrQ"
      },
      "execution_count": null,
      "outputs": []
    },
    {
      "cell_type": "code",
      "source": [
        "!pip install albumentations"
      ],
      "metadata": {
        "id": "RSZEtxfdmoEE"
      },
      "execution_count": null,
      "outputs": []
    },
    {
      "cell_type": "code",
      "execution_count": 4,
      "metadata": {
        "id": "SrOSUGwSRhV6"
      },
      "outputs": [],
      "source": [
        "import os\n",
        "import random\n",
        "import shutil\n",
        "from pathlib import Path\n",
        "\n",
        "import pandas as pd\n",
        "from PIL import Image\n",
        "import cv2\n",
        "from ultralytics import YOLO\n",
        "from IPython.display import Video\n",
        "import numpy as np\n",
        "import matplotlib.pyplot as plt\n",
        "import seaborn as sns\n",
        "from tqdm.notebook import trange, tqdm\n",
        "import warnings\n",
        "import glob\n",
        "import albumentations as A\n",
        "import matplotlib.pyplot as plt\n",
        "from shutil import copyfile\n",
        "from matplotlib import animation, rc\n",
        "rc('animation', html='jshtml')\n"
      ]
    },
    {
      "cell_type": "code",
      "source": [
        "def transformer(image_folder_path, annotation_folder_path):\n",
        "    image_folder = Path(image_folder_path)\n",
        "    annotation_folder = Path(annotation_folder_path)\n",
        "\n",
        "    for image_path in image_folder.glob('**/*.jpg'):\n",
        "        image_name = image_path.stem\n",
        "        relative_label_path = image_path.relative_to(image_folder).with_suffix('.txt')\n",
        "        label_path = annotation_folder / relative_label_path\n",
        "\n",
        "        try:\n",
        "            print(f'Processando: {image_name}')\n",
        "\n",
        "            if not label_path.exists():\n",
        "                print(f'Aviso: O arquivo de anotação não existe para {image_name}')\n",
        "                continue\n",
        "\n",
        "            horizontal_flip(image_path, label_path, image_name)\n",
        "            print(f'{image_name} processado com sucesso')\n",
        "\n",
        "        except Exception as e:\n",
        "            print(f'Falhou: {image_name}. Erro: {e}')\n",
        "\n",
        "def horizontal_flip(image_path, label_path, save_name):\n",
        "    try:\n",
        "        print(f'  Aplicando transformação horizontal para: {image_path}')\n",
        "\n",
        "        image = cv2.imread(str(image_path))\n",
        "\n",
        "        with open(label_path, 'r') as f:\n",
        "            lines = f.readlines()\n",
        "\n",
        "        bbox = []\n",
        "        for line in lines:\n",
        "            l = line.split(' ')\n",
        "            bbox.append([float(l[1]), float(l[2]), float(l[3]), float(l[4]), str(l[0])])\n",
        "\n",
        "        transform = A.Compose([A.HorizontalFlip()], bbox_params=A.BboxParams(format='yolo'))\n",
        "        transformed = transform(image=image, bboxes=bbox)\n",
        "\n",
        "        image_transformed = transformed['image']\n",
        "        boxes = transformed['bboxes']\n",
        "\n",
        "        save_image_path = image_path.parent / f'{save_name}_hf.jpg'\n",
        "        cv2.imwrite(str(save_image_path), image_transformed)\n",
        "\n",
        "        save_label_path = label_path.parent / f'{save_name}_hf.txt'\n",
        "        with open(str(save_label_path), 'w') as f:\n",
        "            for box in boxes:\n",
        "                f.write(f\"{box[-1]} {box[0]} {box[1]} {box[2]} {box[3]}\\n\")\n",
        "\n",
        "        print(f'  Transformação concluída para: {image_path}')\n",
        "\n",
        "    except Exception as e:\n",
        "        raise RuntimeError(f'Falhou: {save_name}. Erro: {e}')\n",
        "\n",
        "# Caminhos dos diretórios\n",
        "image_folder_path = '/content/po.v5i.yolov8/train/images'\n",
        "annotation_folder_path = '/content/po.v5i.yolov8/train/labels'\n",
        "\n",
        "# Executar a transformação\n",
        "transformer(image_folder_path, annotation_folder_path)"
      ],
      "metadata": {
        "id": "De2-fDQqn5S3"
      },
      "execution_count": null,
      "outputs": []
    },
    {
      "cell_type": "code",
      "execution_count": null,
      "metadata": {
        "id": "vBpJOCHERhbN"
      },
      "outputs": [],
      "source": [
        "image = cv2.imread(\"/content/po.v5i.yolov8/train/images/02efbced-IMG_9004_JPG_jpg.rf.28d20a8239c20a84595a6acd101b43fc.jpg\")\n",
        "h, w, c = image.shape\n",
        "print(f\"The image has dimensions {w}x{h} and {c} channels.\")"
      ]
    },
    {
      "cell_type": "code",
      "execution_count": null,
      "metadata": {
        "id": "RAoJ1zX0Rhd_"
      },
      "outputs": [],
      "source": [
        "model = YOLO(\"yolov8n.pt\")\n",
        "\n",
        "# Use the model to detect object\n",
        "image = \"/content/po.v5i.yolov8/train/images/02efbced-IMG_9004_JPG_jpg.rf.28d20a8239c20a84595a6acd101b43fc.jpg\"\n",
        "result_predict = model.predict(source = image, imgsz=(640))\n",
        "\n",
        "# show results\n",
        "plot = result_predict[0].plot()\n",
        "plot = cv2.cvtColor(plot, cv2.COLOR_BGR2RGB)\n",
        "display(Image.fromarray(plot))"
      ]
    },
    {
      "cell_type": "code",
      "execution_count": null,
      "metadata": {
        "id": "CRkc1V26SNjD"
      },
      "outputs": [],
      "source": [
        "Final_model = YOLO('yolov8n.pt')\n",
        "Result_Final_model = Final_model.train(data=\"/content/po.v5i.yolov8/data.yaml\", epochs=12, patience=20, batch = 16, cache = True, imgsz=640, iou = 0.5, augment=True, degrees=25.0, fliplr=0.0, lr0=0.0001, optimizer='Adam')"
      ]
    },
    {
      "cell_type": "code",
      "execution_count": 9,
      "metadata": {
        "colab": {
          "base_uri": "https://localhost:8080/"
        },
        "id": "WwK7aj8x8lL1",
        "outputId": "b6f7a821-b423-4f06-94ee-be57da631d65"
      },
      "outputs": [
        {
          "output_type": "stream",
          "name": "stdout",
          "text": [
            "result of training\n",
            "/content/runs/detect/train/F1_curve.png\n"
          ]
        }
      ],
      "source": [
        "print('result of training')\n",
        "tpaths2=[]\n",
        "for dirname, _, filenames in os.walk('/content/runs/detect/train'):\n",
        "    for filename in filenames:\n",
        "        if filename[-4:]=='.png' or filename[-4:]=='.jpg':\n",
        "            tpaths2+=[(os.path.join(dirname, filename))]\n",
        "tpaths2=sorted(tpaths2)\n",
        "print(tpaths2[0])"
      ]
    },
    {
      "cell_type": "code",
      "execution_count": null,
      "metadata": {
        "id": "J-SF8RZ38lOo"
      },
      "outputs": [],
      "source": [
        "for path in tpaths2:\n",
        "    image = Image.open(path)\n",
        "    image=np.array(image)\n",
        "    plt.figure(figsize=(10,10))\n",
        "    plt.imshow(image)\n",
        "    plt.show()"
      ]
    },
    {
      "cell_type": "code",
      "execution_count": null,
      "metadata": {
        "colab": {
          "base_uri": "https://localhost:8080/"
        },
        "id": "2dv8g3Te8lRs",
        "outputId": "c04e3d84-68cd-46d8-b16d-e016800acf2e"
      },
      "outputs": [
        {
          "output_type": "stream",
          "name": "stdout",
          "text": [
            "Predict\n"
          ]
        }
      ],
      "source": [
        "print('Predict')\n",
        "best_path0='/content/runs/detect/train/weights/best.pt'\n",
        "source0='/content/po.v5i.yolov8/valid/images'"
      ]
    },
    {
      "cell_type": "code",
      "execution_count": null,
      "metadata": {
        "colab": {
          "base_uri": "https://localhost:8080/"
        },
        "id": "ZxYgVQHj8lUY",
        "outputId": "93f2f258-d23a-4821-aceb-1696e2f1ce6e"
      },
      "outputs": [
        {
          "output_type": "stream",
          "name": "stdout",
          "text": [
            "/content/po.v5i.yolov8/valid/images/0765caa7-IMG_9006_JPG_jpg.rf.a48429811bbb95a052d29a3d16043e0b.jpg\n"
          ]
        }
      ],
      "source": [
        "ppaths=[]\n",
        "for dirname, _, filenames in os.walk(source0):\n",
        "    for filename in filenames:\n",
        "        if filename[-4:]=='.jpg':\n",
        "            ppaths+=[(os.path.join(dirname, filename))]\n",
        "ppaths=sorted(ppaths)\n",
        "print(ppaths[0])"
      ]
    },
    {
      "cell_type": "code",
      "execution_count": null,
      "metadata": {
        "colab": {
          "base_uri": "https://localhost:8080/"
        },
        "id": "-iydv0FB8lXA",
        "outputId": "03db73c0-d0c0-4740-da98-abf3f67a993f"
      },
      "outputs": [
        {
          "output_type": "stream",
          "name": "stdout",
          "text": [
            "yolo task=detect mode=predict\n"
          ]
        }
      ],
      "source": [
        "model2 = YOLO(best_path0)\n",
        "print('yolo task=detect mode=predict')"
      ]
    },
    {
      "cell_type": "code",
      "execution_count": null,
      "metadata": {
        "id": "tDvbyveq8lcV"
      },
      "outputs": [],
      "source": [
        "!yolo task=detect mode=predict model={best_path0} conf=0.4 source={source0}"
      ]
    },
    {
      "cell_type": "code",
      "execution_count": null,
      "metadata": {
        "id": "UH8xMLw-JZia"
      },
      "outputs": [],
      "source": [
        "print('Result of Prediction')\n",
        "results = model2.predict(source0,conf=0.4)\n",
        "print(len(results))"
      ]
    },
    {
      "cell_type": "code",
      "execution_count": null,
      "metadata": {
        "id": "WfealxI2Ki71"
      },
      "outputs": [],
      "source": [
        "PBOX=pd.DataFrame(columns=range(6))\n",
        "for i in range(len(results)):\n",
        "    arri=pd.DataFrame(results[i].boxes.data).astype(float)\n",
        "    path=ppaths[i]\n",
        "    file=path.split('/')[-1]\n",
        "    arri=arri.assign(file=file)\n",
        "    arri=arri.assign(i=i)\n",
        "    PBOX=pd.concat([PBOX,arri],axis=0)\n",
        "PBOX.columns=['x','y','x2','y2','confidence','class','file','i']\n",
        "display(PBOX)"
      ]
    },
    {
      "cell_type": "code",
      "execution_count": null,
      "metadata": {
        "id": "qktSEqx1yFQg",
        "colab": {
          "base_uri": "https://localhost:8080/"
        },
        "outputId": "a8c08948-b884-4ea5-da6b-3ca649fd44db"
      },
      "outputs": [
        {
          "output_type": "stream",
          "name": "stdout",
          "text": [
            "Apple\n"
          ]
        }
      ],
      "source": [
        "class_map = {\n",
        "    0: 'Apple',\n",
        "    1: 'Apricot',\n",
        "    2: 'Avocado',\n",
        "    3: 'Banana',\n",
        "    4: 'Beetroot',\n",
        "    5: 'Blueberry',\n",
        "    6: 'Cactus',\n",
        "    7: 'Cantaloupe',\n",
        "    8: 'Carambula',\n",
        "    9: 'Cauliflower',\n",
        "    10: 'Cherry',\n",
        "    11: 'Chestnut',\n",
        "    12: 'Clementine',\n",
        "    13: 'Cocos',\n",
        "    14: 'Dates',\n",
        "    15: 'Eggplant',\n",
        "    16: 'Ginger',\n",
        "    17: 'Granadilla',\n",
        "    18: 'Grape',\n",
        "    19: 'Grapefruit',\n",
        "    20: 'Guava',\n",
        "    21: 'Hazelnut',\n",
        "    22: 'Huckleberry',\n",
        "    23: 'Kaki',\n",
        "    24: 'Kiwi',\n",
        "    25: 'Kohlrabi',\n",
        "    26: 'Kumquats',\n",
        "    27: 'Lemon',\n",
        "    28: 'Limes',\n",
        "    29: 'Lychee',\n",
        "    30: 'Mandarine',\n",
        "    31: 'Mango',\n",
        "    32: 'Mangostan',\n",
        "    33: 'Maracuja',\n",
        "    34: 'Melon',\n",
        "    35: 'Mulberry',\n",
        "    36: 'Nectarine',\n",
        "    37: 'Nut',\n",
        "    38: 'Onion',\n",
        "    39: 'Orange',\n",
        "    40: 'Papaya',\n",
        "    41: 'Passion',\n",
        "    42: 'Peach',\n",
        "    43: 'Pear',\n",
        "    44: 'Pepino',\n",
        "    45: 'Pepper',\n",
        "    46: 'Physalis',\n",
        "    47: 'Pineapple',\n",
        "    48: 'Pitahaya',\n",
        "    49: 'Plum',\n",
        "    50: 'Pomegranate',\n",
        "    51: 'Pomelo',\n",
        "    52: 'Potato',\n",
        "    53: 'Quince',\n",
        "    54: 'Rambutan',\n",
        "    55: 'Raspberry',\n",
        "    56: 'Redcurrant',\n",
        "    57: 'Salak',\n",
        "    58: 'Strawberry',\n",
        "    59: 'Tamarillo',\n",
        "    60: 'Tangelo',\n",
        "    61: 'Tomato',\n",
        "    62: 'Walnut'\n",
        "}\n",
        "\n",
        "print(class_map[0])\n"
      ]
    },
    {
      "cell_type": "code",
      "execution_count": null,
      "metadata": {
        "id": "Ylo9B_eOKjCz"
      },
      "outputs": [],
      "source": [
        "PBOX['class'] = PBOX['class'].apply(lambda x: class_map[int(x)])\n",
        "PBOX = PBOX.reset_index(drop=True)\n",
        "display(PBOX)\n",
        "display(PBOX['class'].value_counts())"
      ]
    },
    {
      "cell_type": "code",
      "execution_count": null,
      "metadata": {
        "id": "LkikJohL8le5"
      },
      "outputs": [],
      "source": [
        "def draw_box2(n0):\n",
        "\n",
        "    ipath=ppaths[n0]\n",
        "    image=cv2.imread(ipath)\n",
        "    H,W=image.shape[0],image.shape[1]\n",
        "    file=ipath.split('/')[-1]\n",
        "\n",
        "    if PBOX[PBOX['file']==file] is not None:\n",
        "        box=PBOX[PBOX['file']==file]\n",
        "        box=box.reset_index(drop=True)\n",
        "        #display(box)\n",
        "\n",
        "        for i in range(len(box)):\n",
        "            label=box.loc[i,'class']\n",
        "            x=int(box.loc[i,'x'])\n",
        "            y=int(box.loc[i,'y'])\n",
        "            x2=int(box.loc[i,'x2'])\n",
        "            y2=int(box.loc[i,'y2'])\n",
        "            #print(label,x,y,x2,y2)\n",
        "            cv2.putText(image, f'{label}', (x, int(y-4)),\n",
        "                        cv2.FONT_HERSHEY_SIMPLEX, 1.0, (0,255,0),2)\n",
        "            cv2.rectangle(image,(x,y),(x2,y2),(0,255,0),2) #green\n",
        "\n",
        "    #plt.imshow(image)\n",
        "    #plt.show()\n",
        "\n",
        "    return image"
      ]
    },
    {
      "cell_type": "code",
      "execution_count": null,
      "metadata": {
        "id": "UtNWV8Kg8lhf"
      },
      "outputs": [],
      "source": [
        "def create_animation(ims):\n",
        "    fig=plt.figure(figsize=(12,8))\n",
        "    im=plt.imshow(cv2.cvtColor(ims[0],cv2.COLOR_BGR2RGB))\n",
        "    text = plt.text(0.05, 0.05, f'Slide {0}', transform=fig.transFigure, fontsize=14, color='blue')\n",
        "    plt.axis('off')\n",
        "    plt.close()\n",
        "\n",
        "    def animate_func(i):\n",
        "        im.set_array(cv2.cvtColor(ims[i],cv2.COLOR_BGR2RGB))\n",
        "        text.set_text(f'Slide {20+i}')\n",
        "        return [im]\n",
        "\n",
        "    return animation.FuncAnimation(fig, animate_func, frames=len(ims), interval=1000)"
      ]
    },
    {
      "cell_type": "code",
      "execution_count": null,
      "metadata": {
        "colab": {
          "base_uri": "https://localhost:8080/",
          "height": 49,
          "referenced_widgets": [
            "464f7f9617ca4e2d92159fb442aace95",
            "cd662cd121194b6098af04fa41ce6f30",
            "e3f1fd1ce9ca4ba0bc83cb8db19028ec",
            "2b99d9bf3cbe424abd728b5cf36a2be1",
            "3aebb8d712a649bab3d0f1563dcafd16",
            "edc9663fb519455da673002d4ea28a5e",
            "fde8fc09c0164e42804816699e4315d7",
            "299f2f00e12b43038a075da8f87bde17",
            "4c80d01abfa3400bafb29bf0c63f8581",
            "43e3686e91eb41618be4eb9cb4834d24",
            "8667a8a0f56441418e1d550fa61c6ed8"
          ]
        },
        "id": "zrnzJfSL8ljw",
        "outputId": "9f9acc52-dbe8-46a4-e7b6-ec34027e3524"
      },
      "outputs": [
        {
          "output_type": "display_data",
          "data": {
            "text/plain": [
              "  0%|          | 0/1200 [00:00<?, ?it/s]"
            ],
            "application/vnd.jupyter.widget-view+json": {
              "version_major": 2,
              "version_minor": 0,
              "model_id": "464f7f9617ca4e2d92159fb442aace95"
            }
          },
          "metadata": {}
        }
      ],
      "source": [
        "images2=[]\n",
        "for i in tqdm(range(len(ppaths))):\n",
        "    images2+=[draw_box2(i)]"
      ]
    },
    {
      "cell_type": "code",
      "execution_count": null,
      "metadata": {
        "id": "nxo3B6UCJ-qF"
      },
      "outputs": [],
      "source": [
        "create_animation(images2)"
      ]
    },
    {
      "cell_type": "code",
      "source": [
        "from ultralytics import YOLO\n",
        "import cv2\n",
        "\n",
        "model = YOLO('/content/runs/detect/train/weights/best.pt')\n",
        "\n",
        "def run():\n",
        "\n",
        "    model.predict(\n",
        "        source=\"./pepino01.jpg\",\n",
        "        conf=0.25,\n",
        "        save=True,\n",
        "        show=True,\n",
        "        save_crop=True\n",
        "    )\n",
        "\n",
        "if __name__ == '__main__':\n",
        "    run()"
      ],
      "metadata": {
        "id": "cr0FrQkeGR8G"
      },
      "execution_count": null,
      "outputs": []
    }
  ],
  "metadata": {
    "colab": {
      "machine_shape": "hm",
      "provenance": [],
      "authorship_tag": "ABX9TyMISgFAXC+ARF9aBvVl0kSD",
      "include_colab_link": true
    },
    "kernelspec": {
      "display_name": "Python 3",
      "name": "python3"
    },
    "language_info": {
      "name": "python"
    },
    "widgets": {
      "application/vnd.jupyter.widget-state+json": {
        "464f7f9617ca4e2d92159fb442aace95": {
          "model_module": "@jupyter-widgets/controls",
          "model_name": "HBoxModel",
          "model_module_version": "1.5.0",
          "state": {
            "_dom_classes": [],
            "_model_module": "@jupyter-widgets/controls",
            "_model_module_version": "1.5.0",
            "_model_name": "HBoxModel",
            "_view_count": null,
            "_view_module": "@jupyter-widgets/controls",
            "_view_module_version": "1.5.0",
            "_view_name": "HBoxView",
            "box_style": "",
            "children": [
              "IPY_MODEL_cd662cd121194b6098af04fa41ce6f30",
              "IPY_MODEL_e3f1fd1ce9ca4ba0bc83cb8db19028ec",
              "IPY_MODEL_2b99d9bf3cbe424abd728b5cf36a2be1"
            ],
            "layout": "IPY_MODEL_3aebb8d712a649bab3d0f1563dcafd16"
          }
        },
        "cd662cd121194b6098af04fa41ce6f30": {
          "model_module": "@jupyter-widgets/controls",
          "model_name": "HTMLModel",
          "model_module_version": "1.5.0",
          "state": {
            "_dom_classes": [],
            "_model_module": "@jupyter-widgets/controls",
            "_model_module_version": "1.5.0",
            "_model_name": "HTMLModel",
            "_view_count": null,
            "_view_module": "@jupyter-widgets/controls",
            "_view_module_version": "1.5.0",
            "_view_name": "HTMLView",
            "description": "",
            "description_tooltip": null,
            "layout": "IPY_MODEL_edc9663fb519455da673002d4ea28a5e",
            "placeholder": "​",
            "style": "IPY_MODEL_fde8fc09c0164e42804816699e4315d7",
            "value": "100%"
          }
        },
        "e3f1fd1ce9ca4ba0bc83cb8db19028ec": {
          "model_module": "@jupyter-widgets/controls",
          "model_name": "FloatProgressModel",
          "model_module_version": "1.5.0",
          "state": {
            "_dom_classes": [],
            "_model_module": "@jupyter-widgets/controls",
            "_model_module_version": "1.5.0",
            "_model_name": "FloatProgressModel",
            "_view_count": null,
            "_view_module": "@jupyter-widgets/controls",
            "_view_module_version": "1.5.0",
            "_view_name": "ProgressView",
            "bar_style": "success",
            "description": "",
            "description_tooltip": null,
            "layout": "IPY_MODEL_299f2f00e12b43038a075da8f87bde17",
            "max": 1200,
            "min": 0,
            "orientation": "horizontal",
            "style": "IPY_MODEL_4c80d01abfa3400bafb29bf0c63f8581",
            "value": 1200
          }
        },
        "2b99d9bf3cbe424abd728b5cf36a2be1": {
          "model_module": "@jupyter-widgets/controls",
          "model_name": "HTMLModel",
          "model_module_version": "1.5.0",
          "state": {
            "_dom_classes": [],
            "_model_module": "@jupyter-widgets/controls",
            "_model_module_version": "1.5.0",
            "_model_name": "HTMLModel",
            "_view_count": null,
            "_view_module": "@jupyter-widgets/controls",
            "_view_module_version": "1.5.0",
            "_view_name": "HTMLView",
            "description": "",
            "description_tooltip": null,
            "layout": "IPY_MODEL_43e3686e91eb41618be4eb9cb4834d24",
            "placeholder": "​",
            "style": "IPY_MODEL_8667a8a0f56441418e1d550fa61c6ed8",
            "value": " 1200/1200 [00:05&lt;00:00, 218.23it/s]"
          }
        },
        "3aebb8d712a649bab3d0f1563dcafd16": {
          "model_module": "@jupyter-widgets/base",
          "model_name": "LayoutModel",
          "model_module_version": "1.2.0",
          "state": {
            "_model_module": "@jupyter-widgets/base",
            "_model_module_version": "1.2.0",
            "_model_name": "LayoutModel",
            "_view_count": null,
            "_view_module": "@jupyter-widgets/base",
            "_view_module_version": "1.2.0",
            "_view_name": "LayoutView",
            "align_content": null,
            "align_items": null,
            "align_self": null,
            "border": null,
            "bottom": null,
            "display": null,
            "flex": null,
            "flex_flow": null,
            "grid_area": null,
            "grid_auto_columns": null,
            "grid_auto_flow": null,
            "grid_auto_rows": null,
            "grid_column": null,
            "grid_gap": null,
            "grid_row": null,
            "grid_template_areas": null,
            "grid_template_columns": null,
            "grid_template_rows": null,
            "height": null,
            "justify_content": null,
            "justify_items": null,
            "left": null,
            "margin": null,
            "max_height": null,
            "max_width": null,
            "min_height": null,
            "min_width": null,
            "object_fit": null,
            "object_position": null,
            "order": null,
            "overflow": null,
            "overflow_x": null,
            "overflow_y": null,
            "padding": null,
            "right": null,
            "top": null,
            "visibility": null,
            "width": null
          }
        },
        "edc9663fb519455da673002d4ea28a5e": {
          "model_module": "@jupyter-widgets/base",
          "model_name": "LayoutModel",
          "model_module_version": "1.2.0",
          "state": {
            "_model_module": "@jupyter-widgets/base",
            "_model_module_version": "1.2.0",
            "_model_name": "LayoutModel",
            "_view_count": null,
            "_view_module": "@jupyter-widgets/base",
            "_view_module_version": "1.2.0",
            "_view_name": "LayoutView",
            "align_content": null,
            "align_items": null,
            "align_self": null,
            "border": null,
            "bottom": null,
            "display": null,
            "flex": null,
            "flex_flow": null,
            "grid_area": null,
            "grid_auto_columns": null,
            "grid_auto_flow": null,
            "grid_auto_rows": null,
            "grid_column": null,
            "grid_gap": null,
            "grid_row": null,
            "grid_template_areas": null,
            "grid_template_columns": null,
            "grid_template_rows": null,
            "height": null,
            "justify_content": null,
            "justify_items": null,
            "left": null,
            "margin": null,
            "max_height": null,
            "max_width": null,
            "min_height": null,
            "min_width": null,
            "object_fit": null,
            "object_position": null,
            "order": null,
            "overflow": null,
            "overflow_x": null,
            "overflow_y": null,
            "padding": null,
            "right": null,
            "top": null,
            "visibility": null,
            "width": null
          }
        },
        "fde8fc09c0164e42804816699e4315d7": {
          "model_module": "@jupyter-widgets/controls",
          "model_name": "DescriptionStyleModel",
          "model_module_version": "1.5.0",
          "state": {
            "_model_module": "@jupyter-widgets/controls",
            "_model_module_version": "1.5.0",
            "_model_name": "DescriptionStyleModel",
            "_view_count": null,
            "_view_module": "@jupyter-widgets/base",
            "_view_module_version": "1.2.0",
            "_view_name": "StyleView",
            "description_width": ""
          }
        },
        "299f2f00e12b43038a075da8f87bde17": {
          "model_module": "@jupyter-widgets/base",
          "model_name": "LayoutModel",
          "model_module_version": "1.2.0",
          "state": {
            "_model_module": "@jupyter-widgets/base",
            "_model_module_version": "1.2.0",
            "_model_name": "LayoutModel",
            "_view_count": null,
            "_view_module": "@jupyter-widgets/base",
            "_view_module_version": "1.2.0",
            "_view_name": "LayoutView",
            "align_content": null,
            "align_items": null,
            "align_self": null,
            "border": null,
            "bottom": null,
            "display": null,
            "flex": null,
            "flex_flow": null,
            "grid_area": null,
            "grid_auto_columns": null,
            "grid_auto_flow": null,
            "grid_auto_rows": null,
            "grid_column": null,
            "grid_gap": null,
            "grid_row": null,
            "grid_template_areas": null,
            "grid_template_columns": null,
            "grid_template_rows": null,
            "height": null,
            "justify_content": null,
            "justify_items": null,
            "left": null,
            "margin": null,
            "max_height": null,
            "max_width": null,
            "min_height": null,
            "min_width": null,
            "object_fit": null,
            "object_position": null,
            "order": null,
            "overflow": null,
            "overflow_x": null,
            "overflow_y": null,
            "padding": null,
            "right": null,
            "top": null,
            "visibility": null,
            "width": null
          }
        },
        "4c80d01abfa3400bafb29bf0c63f8581": {
          "model_module": "@jupyter-widgets/controls",
          "model_name": "ProgressStyleModel",
          "model_module_version": "1.5.0",
          "state": {
            "_model_module": "@jupyter-widgets/controls",
            "_model_module_version": "1.5.0",
            "_model_name": "ProgressStyleModel",
            "_view_count": null,
            "_view_module": "@jupyter-widgets/base",
            "_view_module_version": "1.2.0",
            "_view_name": "StyleView",
            "bar_color": null,
            "description_width": ""
          }
        },
        "43e3686e91eb41618be4eb9cb4834d24": {
          "model_module": "@jupyter-widgets/base",
          "model_name": "LayoutModel",
          "model_module_version": "1.2.0",
          "state": {
            "_model_module": "@jupyter-widgets/base",
            "_model_module_version": "1.2.0",
            "_model_name": "LayoutModel",
            "_view_count": null,
            "_view_module": "@jupyter-widgets/base",
            "_view_module_version": "1.2.0",
            "_view_name": "LayoutView",
            "align_content": null,
            "align_items": null,
            "align_self": null,
            "border": null,
            "bottom": null,
            "display": null,
            "flex": null,
            "flex_flow": null,
            "grid_area": null,
            "grid_auto_columns": null,
            "grid_auto_flow": null,
            "grid_auto_rows": null,
            "grid_column": null,
            "grid_gap": null,
            "grid_row": null,
            "grid_template_areas": null,
            "grid_template_columns": null,
            "grid_template_rows": null,
            "height": null,
            "justify_content": null,
            "justify_items": null,
            "left": null,
            "margin": null,
            "max_height": null,
            "max_width": null,
            "min_height": null,
            "min_width": null,
            "object_fit": null,
            "object_position": null,
            "order": null,
            "overflow": null,
            "overflow_x": null,
            "overflow_y": null,
            "padding": null,
            "right": null,
            "top": null,
            "visibility": null,
            "width": null
          }
        },
        "8667a8a0f56441418e1d550fa61c6ed8": {
          "model_module": "@jupyter-widgets/controls",
          "model_name": "DescriptionStyleModel",
          "model_module_version": "1.5.0",
          "state": {
            "_model_module": "@jupyter-widgets/controls",
            "_model_module_version": "1.5.0",
            "_model_name": "DescriptionStyleModel",
            "_view_count": null,
            "_view_module": "@jupyter-widgets/base",
            "_view_module_version": "1.2.0",
            "_view_name": "StyleView",
            "description_width": ""
          }
        }
      }
    }
  },
  "nbformat": 4,
  "nbformat_minor": 0
}