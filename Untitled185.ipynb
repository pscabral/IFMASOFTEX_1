{
  "nbformat": 4,
  "nbformat_minor": 0,
  "metadata": {
    "colab": {
      "provenance": [],
      "machine_shape": "hm",
      "authorship_tag": "ABX9TyOPiLxdBGArBosNZhe18upK",
      "include_colab_link": true
    },
    "kernelspec": {
      "name": "python3",
      "display_name": "Python 3"
    },
    "language_info": {
      "name": "python"
    }
  },
  "cells": [
    {
      "cell_type": "markdown",
      "metadata": {
        "id": "view-in-github",
        "colab_type": "text"
      },
      "source": [
        "<a href=\"https://colab.research.google.com/github/pscabral/IFMASOFTEX_1/blob/main/Untitled185.ipynb\" target=\"_parent\"><img src=\"https://colab.research.google.com/assets/colab-badge.svg\" alt=\"Open In Colab\"/></a>"
      ]
    },
    {
      "cell_type": "code",
      "execution_count": null,
      "metadata": {
        "id": "VUMhSv2JVt4S"
      },
      "outputs": [],
      "source": [
        "!pip install mega.py\n",
        "\n",
        "from mega import Mega\n",
        "\n",
        "# Crie uma instância da classe Mega\n",
        "mega = Mega()\n",
        "\n",
        "# Cole o link completo do Mega.nz (incluindo a chave)\n",
        "url =\"https://mega.nz/file/di0DVIBK#RFGFyd4v-p2W262oP1UyuSbGQdvWdQhDOl83TLNr6RY\"\n",
        "\n",
        "# Use o link completo para fazer o download\n",
        "mega.download_url(url)\n",
        "\n",
        "!unzip GroceryStoreDataset.zip"
      ]
    },
    {
      "cell_type": "code",
      "source": [
        "from tensorflow.keras.preprocessing.image import ImageDataGenerator\n",
        "from tensorflow.keras.preprocessing import image\n",
        "import os\n",
        "\n",
        "# Diretório de treinamento\n",
        "train_dir = \"../content/GroceryStoreDataset/train\"\n",
        "\n",
        "# Lista de classes no diretório de treinamento\n",
        "train_class = os.listdir(train_dir)\n",
        "print(train_class)\n",
        "\n",
        "# Configurar o gerador de dados de imagem para aumento\n",
        "datagen = ImageDataGenerator(\n",
        "    rotation_range=40,\n",
        "    width_shift_range=0.2,\n",
        "    height_shift_range=0.2,\n",
        "    shear_range=0.2,\n",
        "    zoom_range=0.2,\n",
        "    horizontal_flip=True,\n",
        "    fill_mode='nearest'\n",
        ")\n",
        "\n",
        "# Iterar sobre as classes no diretório de treinamento\n",
        "for class_name in train_class:\n",
        "    class_dir = os.path.join(train_dir, class_name)\n",
        "\n",
        "    # Iterar sobre as imagens na classe\n",
        "    for img_file in os.listdir(class_dir):\n",
        "        img_path = os.path.join(class_dir, img_file)\n",
        "        img = image.load_img(img_path)\n",
        "        x = image.img_to_array(img)\n",
        "        x = x.reshape((1,) + x.shape)\n",
        "\n",
        "        # Gere imagens aumentadas e salve-as no diretório original\n",
        "        i = 0\n",
        "        for batch in datagen.flow(x, batch_size=1, save_to_dir=class_dir, save_prefix=img_file.split('.')[0], save_format='jpeg'):\n",
        "            i += 1\n",
        "            if i > 1:  # Gere 1 imagem aumentada para cada imagem original\n",
        "                break"
      ],
      "metadata": {
        "id": "7nEQn7U3Brd4"
      },
      "execution_count": null,
      "outputs": []
    },
    {
      "cell_type": "code",
      "source": [
        "import numpy as np\n",
        "import pandas as pd\n",
        "import random\n",
        "from tensorflow.keras.preprocessing import image\n",
        "from tensorflow.keras.utils import to_categorical\n",
        "from keras.applications.mobilenet import MobileNet, preprocess_input\n",
        "from tensorflow.keras.applications.mobilenet_v2 import MobileNetV2\n",
        "from tensorflow.keras.models import Sequential\n",
        "from tensorflow.keras.layers import Dropout, Dense,BatchNormalization, Flatten, MaxPool2D\n",
        "from keras.callbacks import ModelCheckpoint, EarlyStopping, ReduceLROnPlateau, Callback\n",
        "from keras.layers import Conv2D, Reshape\n",
        "from tensorflow.keras.utils import Sequence\n",
        "from keras.backend import epsilon\n",
        "import tensorflow as tf\n",
        "from sklearn.model_selection import train_test_split\n",
        "import matplotlib.pyplot as plt\n",
        "import seaborn as sns\n",
        "from tensorflow.keras.layers import GlobalAveragePooling2D\n",
        "from tensorflow.keras.optimizers import Adam\n",
        "import cv2\n",
        "\n",
        "from sklearn.metrics import classification_report, confusion_matrix\n",
        "\n",
        "import os\n",
        "\n",
        "import warnings\n",
        "warnings.filterwarnings('ignore')"
      ],
      "metadata": {
        "id": "cMXVgH5DV60Z"
      },
      "execution_count": 6,
      "outputs": []
    },
    {
      "cell_type": "code",
      "source": [
        "train_dir = \"../content/GroceryStoreDataset/train\"\n",
        "train_class=os.listdir(train_dir)\n",
        "print(train_class)\n",
        "\n",
        "val_dir = \"../content/GroceryStoreDataset/validation\"\n",
        "val_class=os.listdir(val_dir)\n",
        "print(val_class)\n",
        "\n",
        "test_dir = \"../content/GroceryStoreDataset/test\"\n",
        "test_class=os.listdir(test_dir)\n",
        "print(test_class)"
      ],
      "metadata": {
        "colab": {
          "base_uri": "https://localhost:8080/"
        },
        "id": "vV-dw5__V8u7",
        "outputId": "1eb90152-717a-41e6-953c-23cf56153cc6"
      },
      "execution_count": 7,
      "outputs": [
        {
          "output_type": "stream",
          "name": "stdout",
          "text": [
            "['Alpro-Fresh-Soy-Milk', 'Yoggi-Vanilla-Yoghurt', 'Red-Beet', 'Apple-Golden-Delicious', 'Tropicana-Mandarin-Morning-Juice', 'Apple-Royal-Gala', 'Leek', 'Arla-Natural-Mild-Low-Fat-Yoghurt', 'Tropicana-Juice-Smooth-Juice', 'Aubergine', 'Red-Bell-Pepper', 'Yellow-Onion', 'Cantaloupe-Melon', 'Valio-Vanilla-Yoghurt', 'Bravo-Orange-Juice', 'Apple-Red-Delicious', 'Arla-Natural-Yoghurt', 'Orange', 'God-Morgon-Red-Grapefruit-Juice', 'Arla-Ecological-Medium-Fat-Milk', 'Arla-Mild-Vanilla-Yoghurt', 'Alpro-Blueberry-Soyghurt', 'Tropicana-Golden-Grapefruit-Juice', 'Alpro-Shelf-Soy-Milk', 'Sweet-Potato', 'Arla-Sour-Cream', 'Yoggi-Strawberry-Yoghurt', 'Pineapple', 'Arla-Medium-Fat-Milk', 'Mango', 'Garant-Ecological-Standard-Milk', 'Oatly-Oat-Milk', 'Arla-Sour-Milk', 'Solid-Potato', 'Arla-Ecological-Sour-Cream', 'Peach', 'Cabbage', 'Floury-Potato', 'Oatly-Natural-Oatghurt', 'Ginger', 'Green-Bell-Pepper', 'Garlic', 'God-Morgon-Orange-Juice', 'Passion-Fruit', 'God-Morgon-Orange-Red-Grapefruit-Juice', 'Zucchini', 'Red-Grapefruit', 'Banana', 'Satsumas', 'Lime', 'Lemon', 'Pear-Anjou', 'Carrots', 'Arla-Lactose-Medium-Fat-Milk', 'Apple-Pink-Lady', 'Papaya', 'Asparagus', 'Bravo-Apple-Juice', 'God-Morgon-Apple-Juice', 'Watermelon-Melon', 'Alpro-Vanilla-Soyghurt', 'Regular-Tomato', 'Arla-Standard-Milk', 'Vine-Tomato', 'Tropicana-Apple-Juice', 'Galia-Melon', 'Cucumber', 'Honeydew-Melon', 'Orange-Bell-Pepper', 'Garant-Ecological-Medium-Fat-Milk', 'Pomegranate', 'Kiwi', 'Nectarine', 'Avocado', 'Pear-Conference', 'Beef-Tomato', 'Apple-Granny-Smith', 'Pear-Kaiser', 'Plum', 'Brown-Cap-Mushroom', 'Yellow-Bell-Pepper']\n",
            "['Yoggi-Vanilla-Yoghurt', 'Red-Beet', 'Apple-Golden-Delicious', 'Apple-Royal-Gala', 'Leek', 'Aubergine', 'Red-Bell-Pepper', 'Yellow-Onion', 'Cantaloupe-Melon', 'Valio-Vanilla-Yoghurt', 'Bravo-Orange-Juice', 'Orange', 'God-Morgon-Red-Grapefruit-Juice', 'Arla-Ecological-Medium-Fat-Milk', 'Arla-Mild-Vanilla-Yoghurt', 'Alpro-Blueberry-Soyghurt', 'Sweet-Potato', 'Arla-Sour-Cream', 'Yoggi-Strawberry-Yoghurt', 'Pineapple', 'Arla-Medium-Fat-Milk', 'Mango', 'Garant-Ecological-Standard-Milk', 'Oatly-Oat-Milk', 'Peach', 'Cabbage', 'Floury-Potato', 'Oatly-Natural-Oatghurt', 'Ginger', 'God-Morgon-Orange-Juice', 'Passion-Fruit', 'God-Morgon-Orange-Red-Grapefruit-Juice', 'Zucchini', 'Red-Grapefruit', 'Banana', 'Satsumas', 'Lime', 'Lemon', 'Carrots', 'Apple-Pink-Lady', 'Asparagus', 'Bravo-Apple-Juice', 'God-Morgon-Apple-Juice', 'Watermelon-Melon', 'Alpro-Vanilla-Soyghurt', 'Arla-Standard-Milk', 'Vine-Tomato', 'Galia-Melon', 'Cucumber', 'Honeydew-Melon', 'Orange-Bell-Pepper', 'Garant-Ecological-Medium-Fat-Milk', 'Pomegranate', 'Kiwi', 'Avocado', 'Pear-Conference', 'Beef-Tomato', 'Apple-Granny-Smith', 'Brown-Cap-Mushroom', 'Yellow-Bell-Pepper']\n",
            "['Alpro-Fresh-Soy-Milk', 'Yoggi-Vanilla-Yoghurt', 'Red-Beet', 'Apple-Golden-Delicious', 'Tropicana-Mandarin-Morning-Juice', 'Apple-Royal-Gala', 'Leek', 'Arla-Natural-Mild-Low-Fat-Yoghurt', 'Tropicana-Juice-Smooth-Juice', 'Aubergine', 'Red-Bell-Pepper', 'Yellow-Onion', 'Cantaloupe-Melon', 'Valio-Vanilla-Yoghurt', 'Bravo-Orange-Juice', 'Apple-Red-Delicious', 'Arla-Natural-Yoghurt', 'Orange', 'God-Morgon-Red-Grapefruit-Juice', 'Arla-Ecological-Medium-Fat-Milk', 'Arla-Mild-Vanilla-Yoghurt', 'Alpro-Blueberry-Soyghurt', 'Tropicana-Golden-Grapefruit-Juice', 'Alpro-Shelf-Soy-Milk', 'Sweet-Potato', 'Arla-Sour-Cream', 'Yoggi-Strawberry-Yoghurt', 'Pineapple', 'Arla-Medium-Fat-Milk', 'Mango', 'Garant-Ecological-Standard-Milk', 'Oatly-Oat-Milk', 'Arla-Sour-Milk', 'Solid-Potato', 'Arla-Ecological-Sour-Cream', 'Peach', 'Cabbage', 'Floury-Potato', 'Oatly-Natural-Oatghurt', 'Ginger', 'Green-Bell-Pepper', 'Garlic', 'God-Morgon-Orange-Juice', 'Passion-Fruit', 'God-Morgon-Orange-Red-Grapefruit-Juice', 'Zucchini', 'Red-Grapefruit', 'Banana', 'Satsumas', 'Lime', 'Lemon', 'Pear-Anjou', 'Carrots', 'Arla-Lactose-Medium-Fat-Milk', 'Apple-Pink-Lady', 'Papaya', 'Asparagus', 'Bravo-Apple-Juice', 'God-Morgon-Apple-Juice', 'Watermelon-Melon', 'Alpro-Vanilla-Soyghurt', 'Regular-Tomato', 'Arla-Standard-Milk', 'Vine-Tomato', 'Tropicana-Apple-Juice', 'Galia-Melon', 'Cucumber', 'Honeydew-Melon', 'Orange-Bell-Pepper', 'Garant-Ecological-Medium-Fat-Milk', 'Pomegranate', 'Kiwi', 'Nectarine', 'Avocado', 'Pear-Conference', 'Beef-Tomato', 'Apple-Granny-Smith', 'Pear-Kaiser', 'Plum', 'Brown-Cap-Mushroom', 'Yellow-Bell-Pepper']\n"
          ]
        }
      ]
    },
    {
      "cell_type": "code",
      "source": [
        "x=[] # array value of the images\n",
        "y=[] # the labels of the images\n",
        "\n",
        "for folder in os.listdir(train_dir):\n",
        "    image_list=os.listdir(train_dir+\"/\"+folder)\n",
        "    for img_name in image_list:\n",
        "        # Loading images\n",
        "        img=image.load_img(train_dir+\"/\"+folder+\"/\"+img_name,target_size=(224,224))\n",
        "        img=image.img_to_array(img)\n",
        "\n",
        "        # Transfer Learning: Preprocess of MobileNetV2 model to our images before passing it to MobileNetV2\n",
        "        img=preprocess_input(img)\n",
        "\n",
        "        x.append(img) # appending image array\n",
        "        y.append(train_class.index(folder)) # appending class index to the array\n",
        "\n",
        "print(\"Preparing Training Dataset Completed.\")"
      ],
      "metadata": {
        "colab": {
          "base_uri": "https://localhost:8080/"
        },
        "id": "jLh_XUiMWSb8",
        "outputId": "9af5b6ea-a6d2-4b5b-f381-af5d7a3ec5dd"
      },
      "execution_count": 8,
      "outputs": [
        {
          "output_type": "stream",
          "name": "stdout",
          "text": [
            "Preparing Training Dataset Completed.\n"
          ]
        }
      ]
    },
    {
      "cell_type": "code",
      "source": [
        "val_images=[]\n",
        "val_images_Original=[]\n",
        "val_image_label=[]\n",
        "\n",
        "for folder in os.listdir(val_dir):\n",
        "    image_list=os.listdir(val_dir+\"/\"+folder)\n",
        "    for img_name in image_list:\n",
        "        # Loading images\n",
        "        img=image.load_img(val_dir+\"/\"+folder+\"/\"+img_name,target_size=(224,224))\n",
        "\n",
        "        # Converting to arrarys\n",
        "        img=image.img_to_array(img)\n",
        "\n",
        "        # Saving original images, will be used just for display at the end\n",
        "        val_images_Original.append(img.copy())\n",
        "        img=preprocess_input(img)\n",
        "\n",
        "        # Appending arrays\n",
        "        val_images.append(img)\n",
        "        val_image_label.append(val_class.index(folder))\n",
        "\n",
        "print(\"Preparing Validation Dataset Completed.\")"
      ],
      "metadata": {
        "colab": {
          "base_uri": "https://localhost:8080/"
        },
        "id": "NWx41tg1WVBp",
        "outputId": "2d5ce29a-4e8d-40f0-80dd-b0ba3816845f"
      },
      "execution_count": 9,
      "outputs": [
        {
          "output_type": "stream",
          "name": "stdout",
          "text": [
            "Preparing Validation Dataset Completed.\n"
          ]
        }
      ]
    },
    {
      "cell_type": "code",
      "source": [
        "test_images=[]\n",
        "test_images_Original=[]\n",
        "test_image_label=[]\n",
        "\n",
        "for folder in os.listdir(test_dir):\n",
        "    image_list=os.listdir(test_dir+\"/\"+folder)\n",
        "    for img_name in image_list:\n",
        "        # Loading images\n",
        "        img=image.load_img(test_dir+\"/\"+folder+\"/\"+img_name,target_size=(224,224))\n",
        "\n",
        "        # Converting to arrarys\n",
        "        img=image.img_to_array(img)\n",
        "\n",
        "        # Saving original images, will be used just for display at the end\n",
        "        test_images_Original.append(img.copy())\n",
        "        img=preprocess_input(img)\n",
        "\n",
        "        # Appending arrays\n",
        "        test_images.append(img)\n",
        "        test_image_label.append(test_class.index(folder))\n",
        "\n",
        "print(\"Preparing Test Dataset Completed.\")"
      ],
      "metadata": {
        "colab": {
          "base_uri": "https://localhost:8080/"
        },
        "id": "OKcIe2CJWVIC",
        "outputId": "29ef64d5-dbf0-4a81-936a-089bde8c2d97"
      },
      "execution_count": 10,
      "outputs": [
        {
          "output_type": "stream",
          "name": "stdout",
          "text": [
            "Preparing Test Dataset Completed.\n"
          ]
        }
      ]
    },
    {
      "cell_type": "code",
      "source": [
        "print(\"Training Dataset\")\n",
        "\n",
        "x=np.array(x) # Converting to np arrary to pass to the model\n",
        "print(x.shape)\n",
        "\n",
        "y=to_categorical(y) # onehot encoding of the labels\n",
        "# print(y)a\n",
        "print(y.shape)\n",
        "\n",
        "# Validation Dataset\n",
        "print(\"Validation Dataset\")\n",
        "\n",
        "val_images=np.array(val_images)\n",
        "print(val_images.shape)\n",
        "\n",
        "val_image_label=to_categorical(val_image_label) # onehot encoding of the labels)\n",
        "print(val_image_label.shape)\n",
        "\n",
        "print(\"Test Dataset\")\n",
        "\n",
        "test_images=np.array(test_images)\n",
        "print(test_images.shape)\n",
        "\n",
        "test_image_label=to_categorical(test_image_label) # onehot encoding of the labels)\n",
        "print(test_image_label.shape)"
      ],
      "metadata": {
        "colab": {
          "base_uri": "https://localhost:8080/"
        },
        "id": "Zs1_Y3XFWVKy",
        "outputId": "e6da40ce-4d54-4572-d807-55bad92399ec"
      },
      "execution_count": 11,
      "outputs": [
        {
          "output_type": "stream",
          "name": "stdout",
          "text": [
            "Training Dataset\n",
            "(2640, 224, 224, 3)\n",
            "(2640, 81)\n",
            "Validation Dataset\n",
            "(296, 224, 224, 3)\n",
            "(296, 60)\n",
            "Test Dataset\n",
            "(2485, 224, 224, 3)\n",
            "(2485, 81)\n"
          ]
        }
      ]
    },
    {
      "cell_type": "code",
      "source": [
        "xtrain, xtest, ytrain, ytest = train_test_split(x,y,test_size=0.2,random_state=5)\n",
        "print(\"Splitting data for train and test completed.\")"
      ],
      "metadata": {
        "colab": {
          "base_uri": "https://localhost:8080/"
        },
        "id": "N3VxQfoNWVNP",
        "outputId": "47b21733-94f4-4abe-953c-95a497a939a1"
      },
      "execution_count": 12,
      "outputs": [
        {
          "output_type": "stream",
          "name": "stdout",
          "text": [
            "Splitting data for train and test completed.\n"
          ]
        }
      ]
    },
    {
      "cell_type": "code",
      "source": [
        "rand_images1 = random.sample(os.listdir(\"../content/GroceryStoreDataset/train/Banana\"), 8)\n",
        "rand_images2 = random.sample(os.listdir(\"../content/GroceryStoreDataset/train/Lemon\"), 8)"
      ],
      "metadata": {
        "id": "JMAkNGJpWqQz"
      },
      "execution_count": 13,
      "outputs": []
    },
    {
      "cell_type": "code",
      "source": [
        "fig = plt.figure(figsize=(10,10))\n",
        "for i, im in enumerate(rand_images1):\n",
        "    plt.subplot(2,4 , i+1)\n",
        "    im = cv2.imread(os.path.join(\"../content/GroceryStoreDataset/train/Banana\", im))\n",
        "    plt.imshow(im)\n",
        "    plt.axis('off')\n",
        "plt.tight_layout()\n",
        "plt.show()"
      ],
      "metadata": {
        "id": "Z-2aewC8W09l"
      },
      "execution_count": null,
      "outputs": []
    },
    {
      "cell_type": "code",
      "source": [
        "fig = plt.figure(figsize=(10,10))\n",
        "for i, im in enumerate(rand_images2):\n",
        "    plt.subplot(2,4 , i+1)\n",
        "    im = cv2.imread(os.path.join(\"../content/GroceryStoreDataset/train/Lemon\", im))\n",
        "    plt.imshow(im)\n",
        "    plt.axis('off')\n",
        "plt.tight_layout()\n",
        "plt.show()"
      ],
      "metadata": {
        "id": "NSTyLHwZW9Rn"
      },
      "execution_count": null,
      "outputs": []
    },
    {
      "cell_type": "code",
      "source": [
        "mnet = MobileNetV2(include_top = False, weights = \"imagenet\" ,input_shape=(224,224,3))"
      ],
      "metadata": {
        "colab": {
          "base_uri": "https://localhost:8080/"
        },
        "id": "Td0g6xQUXEHk",
        "outputId": "6814077f-90db-4d1e-e13d-0284702d013c"
      },
      "execution_count": 16,
      "outputs": [
        {
          "output_type": "stream",
          "name": "stdout",
          "text": [
            "Downloading data from https://storage.googleapis.com/tensorflow/keras-applications/mobilenet_v2/mobilenet_v2_weights_tf_dim_ordering_tf_kernels_1.0_224_no_top.h5\n",
            "9406464/9406464 [==============================] - 0s 0us/step\n"
          ]
        }
      ]
    },
    {
      "cell_type": "code",
      "source": [
        "tf.keras.backend.clear_session()\n",
        "\n",
        "model = Sequential([mnet,\n",
        "                    GlobalAveragePooling2D(),\n",
        "                    Dense(512, activation = \"relu\"),\n",
        "                    BatchNormalization(),\n",
        "                    Dropout(0.3),\n",
        "                    Dense(128, activation = \"relu\"),\n",
        "                    Dropout(0.1),\n",
        "                    # Dense(32, activation = \"relu\"),\n",
        "                    # Dropout(0.3),\n",
        "                    Dense(81, activation = \"softmax\")])\n",
        "\n",
        "model.layers[0].trainable = False\n",
        "\n",
        "model.compile(loss=\"categorical_crossentropy\", optimizer=\"adam\", metrics=\"accuracy\")\n",
        "\n",
        "model.summary()\n",
        "Model: \"sequential\""
      ],
      "metadata": {
        "id": "0hLjpIHRXIKC"
      },
      "execution_count": null,
      "outputs": []
    },
    {
      "cell_type": "code",
      "source": [
        "def scheduler(epoch):\n",
        "    if epoch <= 2:\n",
        "        return 0.001\n",
        "    elif epoch > 2 and epoch <= 15:\n",
        "        return 0.0001\n",
        "    else:\n",
        "        return 0.00001\n",
        "\n",
        "lr_callbacks = tf.keras.callbacks.LearningRateScheduler(scheduler)"
      ],
      "metadata": {
        "id": "c3oswThVXNKR"
      },
      "execution_count": 18,
      "outputs": []
    },
    {
      "cell_type": "code",
      "source": [
        "EPOCHS = 20\n",
        "hist = model.fit(xtrain, ytrain, epochs=EPOCHS, callbacks=[lr_callbacks], validation_data=(xtest,ytest))"
      ],
      "metadata": {
        "colab": {
          "base_uri": "https://localhost:8080/",
          "height": 193
        },
        "id": "O0CvNq_LXQCZ",
        "outputId": "87499ceb-46fa-431c-8b2c-b5f7af2da95f"
      },
      "execution_count": 2,
      "outputs": [
        {
          "output_type": "error",
          "ename": "NameError",
          "evalue": "ignored",
          "traceback": [
            "\u001b[0;31m---------------------------------------------------------------------------\u001b[0m",
            "\u001b[0;31mNameError\u001b[0m                                 Traceback (most recent call last)",
            "\u001b[0;32m<ipython-input-2-836bbeb753a7>\u001b[0m in \u001b[0;36m<cell line: 2>\u001b[0;34m()\u001b[0m\n\u001b[1;32m      1\u001b[0m \u001b[0mEPOCHS\u001b[0m \u001b[0;34m=\u001b[0m \u001b[0;36m20\u001b[0m\u001b[0;34m\u001b[0m\u001b[0;34m\u001b[0m\u001b[0m\n\u001b[0;32m----> 2\u001b[0;31m \u001b[0mhist\u001b[0m \u001b[0;34m=\u001b[0m \u001b[0mmodel\u001b[0m\u001b[0;34m.\u001b[0m\u001b[0mfit\u001b[0m\u001b[0;34m(\u001b[0m\u001b[0mxtrain\u001b[0m\u001b[0;34m,\u001b[0m \u001b[0mytrain\u001b[0m\u001b[0;34m,\u001b[0m \u001b[0mepochs\u001b[0m\u001b[0;34m=\u001b[0m\u001b[0mEPOCHS\u001b[0m\u001b[0;34m,\u001b[0m \u001b[0mcallbacks\u001b[0m\u001b[0;34m=\u001b[0m\u001b[0;34m[\u001b[0m\u001b[0mlr_callbacks\u001b[0m\u001b[0;34m]\u001b[0m\u001b[0;34m,\u001b[0m \u001b[0mvalidation_data\u001b[0m\u001b[0;34m=\u001b[0m\u001b[0;34m(\u001b[0m\u001b[0mxtest\u001b[0m\u001b[0;34m,\u001b[0m\u001b[0mytest\u001b[0m\u001b[0;34m)\u001b[0m\u001b[0;34m)\u001b[0m\u001b[0;34m\u001b[0m\u001b[0;34m\u001b[0m\u001b[0m\n\u001b[0m",
            "\u001b[0;31mNameError\u001b[0m: name 'model' is not defined"
          ]
        }
      ]
    },
    {
      "cell_type": "code",
      "source": [
        "# Salvar o modelo ao final do treinamento\n",
        "model.save(\"frutas_final.h5\")"
      ],
      "metadata": {
        "id": "Jh1_mcrIgzNe"
      },
      "execution_count": null,
      "outputs": []
    },
    {
      "cell_type": "code",
      "source": [
        "epochs = 20\n",
        "train_loss = hist.history['loss']\n",
        "val_loss = hist.history['val_loss']\n",
        "train_acc = hist.history['accuracy']\n",
        "val_acc = hist.history['val_accuracy']\n",
        "xc = range(epochs)\n",
        "\n",
        "plt.figure(1,figsize=(7,5))\n",
        "plt.plot(xc,train_loss)\n",
        "plt.plot(xc,val_loss)\n",
        "plt.xlabel('num of Epochs')\n",
        "plt.ylabel('loss')\n",
        "plt.title('train_loss vs val_loss')\n",
        "plt.grid(True)\n",
        "plt.legend(['train','val'])\n",
        "#print plt.style.available # use bmh, classic,ggplot for big pictures\n",
        "plt.style.use(['classic'])\n",
        "\n",
        "plt.figure(2,figsize=(7,5))\n",
        "plt.plot(xc,train_acc)\n",
        "plt.plot(xc,val_acc)\n",
        "plt.xlabel('num of Epochs')\n",
        "plt.ylabel('accuracy')\n",
        "plt.title('train_acc vs val_acc')\n",
        "plt.grid(True)\n",
        "plt.legend(['train','val'],loc=4)\n",
        "#print plt.style.available # use bmh, classic,ggplot for big pictures\n",
        "plt.style.use(['classic'])"
      ],
      "metadata": {
        "colab": {
          "base_uri": "https://localhost:8080/",
          "height": 876
        },
        "id": "AwdwUXQEg1qy",
        "outputId": "2a6791f9-baac-4f89-8d03-4ebbc534a44d"
      },
      "execution_count": 20,
      "outputs": [
        {
          "output_type": "display_data",
          "data": {
            "text/plain": [
              "<Figure size 700x500 with 1 Axes>"
            ],
            "image/png": "[encoded data removed]"
          },
          "metadata": {}
        },
        {
          "output_type": "display_data",
          "data": {
            "text/plain": [
              "<Figure size 560x400 with 1 Axes>"
            ],
            "image/png": "[encoded data removed]"
          },
          "metadata": {}
        }
      ]
    },
    {
      "cell_type": "code",
      "source": [
        "def predict(img_name, model):\n",
        "    img=image.load_img(img_name,target_size=(224,224))\n",
        "    img=image.img_to_array(img)\n",
        "    plt.imshow(img.astype('int32'))\n",
        "    plt.show()\n",
        "    img=preprocess_input(img)\n",
        "    prediction=model.predict(img.reshape(1,224,224,3))\n",
        "    output=np.argmax(prediction)\n",
        "    print(train_class[output])\n",
        "\n",
        "\n",
        "# This function plots the image supplied in array\n",
        "def plot_image(i, predictions_array, true_label, img):\n",
        "    predictions_array, true_label, img = predictions_array[i], true_label[i], img[i]\n",
        "    plt.grid(False)\n",
        "    plt.xticks([])\n",
        "    plt.yticks([])\n",
        "    plt.imshow(img.astype('int32'))\n",
        "    predicted_label=np.argmax(predictions_array)\n",
        "    true_label=np.argmax(true_label)"
      ],
      "metadata": {
        "id": "VttjHuEVg-w5"
      },
      "execution_count": 21,
      "outputs": []
    },
    {
      "cell_type": "code",
      "source": [
        "predictions=[]\n",
        "\n",
        "for img in test_images:\n",
        "    img=img.reshape(1,224,224,3)\n",
        "    predictions.append(model.predict(img))"
      ],
      "metadata": {
        "id": "1s8-Jsidg-1J"
      },
      "execution_count": null,
      "outputs": []
    },
    {
      "cell_type": "code",
      "source": [
        "pred_labels = model.predict(test_images)"
      ],
      "metadata": {
        "colab": {
          "base_uri": "https://localhost:8080/"
        },
        "id": "Sq0GG0jdg-4a",
        "outputId": "f45a8013-a4f7-4934-c7e1-1c86042120be"
      },
      "execution_count": 23,
      "outputs": [
        {
          "output_type": "stream",
          "name": "stdout",
          "text": [
            "78/78 [==============================] - 26s 335ms/step\n"
          ]
        }
      ]
    },
    {
      "cell_type": "code",
      "source": [
        "def roundoff(arr):\n",
        "    \"\"\"To round off according to the argmax of each predicted label array. \"\"\"\n",
        "    arr[np.argwhere(arr != arr.max())] = 0\n",
        "    arr[np.argwhere(arr == arr.max())] = 1\n",
        "    return arr\n",
        "\n",
        "for labels in pred_labels:\n",
        "    labels = roundoff(labels)\n",
        "\n",
        "print(classification_report(test_image_label, pred_labels, target_names=test_class))"
      ],
      "metadata": {
        "id": "LrcfsvdvhQim"
      },
      "execution_count": null,
      "outputs": []
    },
    {
      "cell_type": "code",
      "source": [
        "pred_ls = np.argmax(pred_labels, axis=1)\n",
        "test_ls = np.argmax(test_image_label, axis=1)\n",
        "\n",
        "conf_arr = confusion_matrix(test_ls, pred_ls)\n",
        "\n",
        "#plt.figure(figsize=(8, 6), dpi=80, facecolor='w', edgecolor='k')\n",
        "plt.figure(figsize=(30, 20), dpi=80, facecolor='w', edgecolor='k')\n",
        "\n",
        "ax = sns.heatmap(conf_arr, cmap='Greens', annot=True, fmt='d', xticklabels= test_class,\n",
        "                yticklabels=test_class)\n",
        "\n",
        "plt.title('Fruitssssss')\n",
        "plt.xlabel('Prediction')\n",
        "plt.ylabel('Truth')\n",
        "plt.show(ax)"
      ],
      "metadata": {
        "id": "yia8Ao-hhV8U"
      },
      "execution_count": null,
      "outputs": []
    }
  ]
}