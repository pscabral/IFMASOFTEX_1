{
  "cells": [
    {
      "cell_type": "markdown",
      "metadata": {
        "id": "view-in-github",
        "colab_type": "text"
      },
      "source": [
        "<a href=\"https://colab.research.google.com/github/pscabral/IFMASOFTEX_1/blob/main/Yolo8_v1.8.ipynb\" target=\"_parent\"><img src=\"https://colab.research.google.com/assets/colab-badge.svg\" alt=\"Open In Colab\"/></a>"
      ]
    },
    {
      "cell_type": "code",
      "source": [
        "!pip install mega.py\n",
        "\n",
        "from mega import Mega\n",
        "\n",
        "# Crie uma instância da classe Mega\n",
        "mega = Mega()\n",
        "\n",
        "# Cole o link completo do Mega.nz (incluindo a chave)\n",
        "url = \"https://mega.nz/file/gzcmkBbS#Xo0iwU47Ffld8w4sqtNYtDkjh5vmSud05X_xqLEjVGw\"\n",
        "\n",
        "# Use o link completo para fazer o download\n",
        "mega.download_url(url)\n",
        "\n",
        "!unzip Comida2.0.v1i.yolov8.zip"
      ],
      "metadata": {
        "id": "AT2JBmpNPUN6"
      },
      "execution_count": null,
      "outputs": []
    },
    {
      "cell_type": "code",
      "source": [
        "!pip install ultralytics"
      ],
      "metadata": {
        "id": "HjDU8ZMkmhrQ"
      },
      "execution_count": null,
      "outputs": []
    },
    {
      "cell_type": "code",
      "source": [
        "!pip install albumentations"
      ],
      "metadata": {
        "id": "RSZEtxfdmoEE"
      },
      "execution_count": null,
      "outputs": []
    },
    {
      "cell_type": "code",
      "execution_count": 4,
      "metadata": {
        "id": "SrOSUGwSRhV6"
      },
      "outputs": [],
      "source": [
        "import os\n",
        "import random\n",
        "import shutil\n",
        "from pathlib import Path\n",
        "\n",
        "import pandas as pd\n",
        "from PIL import Image\n",
        "import cv2\n",
        "from ultralytics import YOLO\n",
        "from IPython.display import Video\n",
        "import numpy as np\n",
        "import matplotlib.pyplot as plt\n",
        "import seaborn as sns\n",
        "from tqdm.notebook import trange, tqdm\n",
        "import warnings\n",
        "import glob\n",
        "import albumentations as A\n",
        "import matplotlib.pyplot as plt\n",
        "from shutil import copyfile\n",
        "from matplotlib import animation, rc\n",
        "rc('animation', html='jshtml')"
      ]
    },
    {
      "cell_type": "code",
      "source": [
        "def transformer(image_folder_path, annotation_folder_path):\n",
        "    image_folder = Path(image_folder_path)\n",
        "    annotation_folder = Path(annotation_folder_path)\n",
        "\n",
        "    for image_path in image_folder.glob('**/*.jpg'):\n",
        "        image_name = image_path.stem\n",
        "        relative_label_path = image_path.relative_to(image_folder).with_suffix('.txt')\n",
        "        label_path = annotation_folder / relative_label_path\n",
        "\n",
        "        try:\n",
        "            print(f'Processando: {image_name}')\n",
        "\n",
        "            if not label_path.exists():\n",
        "                print(f'Aviso: O arquivo de anotação não existe para {image_name}')\n",
        "                continue\n",
        "\n",
        "            horizontal_flip(image_path, label_path, image_name)\n",
        "            vertical_flip(image_path, label_path, image_name)\n",
        "\n",
        "            print(f'{image_name} processado com sucesso')\n",
        "\n",
        "        except Exception as e:\n",
        "            print(f'Falhou: {image_name}. Erro: {e}')\n",
        "\n",
        "def horizontal_flip(image_path, label_path, save_name):\n",
        "    try:\n",
        "        print(f'  Aplicando transformação horizontal para: {image_path}')\n",
        "\n",
        "        image = cv2.imread(str(image_path))\n",
        "\n",
        "        with open(label_path, 'r') as f:\n",
        "            lines = f.readlines()\n",
        "\n",
        "        bbox = []\n",
        "        for line in lines:\n",
        "            l = line.split(' ')\n",
        "            bbox.append([float(l[1]), float(l[2]), float(l[3]), float(l[4]), str(l[0])])\n",
        "\n",
        "        transform = A.Compose([A.HorizontalFlip()], bbox_params=A.BboxParams(format='yolo'))\n",
        "        transformed = transform(image=image, bboxes=bbox)\n",
        "\n",
        "        image_transformed = transformed['image']\n",
        "        boxes = transformed['bboxes']\n",
        "\n",
        "        save_image_path = image_path.parent / f'{save_name}_hf.jpg'\n",
        "        cv2.imwrite(str(save_image_path), image_transformed)\n",
        "\n",
        "        save_label_path = label_path.parent / f'{save_name}_hf.txt'\n",
        "        with open(str(save_label_path), 'w') as f:\n",
        "            for box in boxes:\n",
        "                f.write(f\"{box[-1]} {box[0]} {box[1]} {box[2]} {box[3]}\\n\")\n",
        "\n",
        "        print(f'  Transformação concluída para: {image_path}')\n",
        "\n",
        "    except Exception as e:\n",
        "        raise RuntimeError(f'Falhou: {save_name}. Erro: {e}')\n",
        "\n",
        "def vertical_flip(image_path, label_path, save_name):\n",
        "    try:\n",
        "        print(f'  Aplicando transformação vertical para: {image_path}')\n",
        "\n",
        "        image = cv2.imread(str(image_path))\n",
        "\n",
        "        with open(label_path, 'r') as f:\n",
        "            lines = f.readlines()\n",
        "\n",
        "        bbox = []\n",
        "        for line in lines:\n",
        "            l = line.split(' ')\n",
        "            bbox.append([float(l[1]), float(l[2]), float(l[3]), float(l[4]), str(l[0])])\n",
        "\n",
        "        transform = A.Compose([A.VerticalFlip()], bbox_params=A.BboxParams(format='yolo'))\n",
        "        transformed = transform(image=image, bboxes=bbox)\n",
        "\n",
        "        image_transformed = transformed['image']\n",
        "        boxes = transformed['bboxes']\n",
        "\n",
        "        save_image_path = image_path.parent / f'{save_name}_vf.jpg'\n",
        "        cv2.imwrite(str(save_image_path), image_transformed)\n",
        "\n",
        "        save_label_path = label_path.parent / f'{save_name}_vf.txt'\n",
        "        with open(str(save_label_path), 'w') as f:\n",
        "            for box in boxes:\n",
        "                f.write(f\"{box[-1]} {box[0]} {box[1]} {box[2]} {box[3]}\\n\")\n",
        "\n",
        "        print(f'  Transformação concluída para: {image_path}')\n",
        "\n",
        "    except Exception as e:\n",
        "        raise RuntimeError(f'Falhou: {save_name}. Erro: {e}')\n",
        "\n",
        "# Caminhos dos diretórios\n",
        "image_folder_path = '/content/Comida2.0.v1i/train/images'\n",
        "annotation_folder_path = '/content/Comida2.0.v1i/train/labels'\n",
        "\n",
        "# Executar a transformação\n",
        "transformer(image_folder_path, annotation_folder_path)\n"
      ],
      "metadata": {
        "id": "JvkGRS9sGQ7d"
      },
      "execution_count": null,
      "outputs": []
    },
    {
      "cell_type": "code",
      "source": [
        "Image_dir = '/content/Comida2.0.v1i/train/images'\n",
        "\n",
        "num_samples = 9\n",
        "image_files = os.listdir(Image_dir)\n",
        "\n",
        "# Randomly select num_samples images\n",
        "rand_images = random.sample(image_files, num_samples)\n",
        "\n",
        "fig, axes = plt.subplots(3, 3, figsize=(11, 11))\n",
        "\n",
        "for i in range(num_samples):\n",
        "    image = rand_images[i]\n",
        "    ax = axes[i // 3, i % 3]\n",
        "    ax.imshow(plt.imread(os.path.join(Image_dir, image)))\n",
        "    ax.set_title(f'Image {i+1}')\n",
        "    ax.axis('off')\n",
        "\n",
        "plt.tight_layout()\n",
        "plt.show()"
      ],
      "metadata": {
        "id": "_DqCkkrdbttm"
      },
      "execution_count": null,
      "outputs": []
    },
    {
      "cell_type": "code",
      "execution_count": 7,
      "metadata": {
        "id": "vBpJOCHERhbN",
        "outputId": "a0153e8a-67ec-44c0-bb79-ec684780ec6f",
        "colab": {
          "base_uri": "https://localhost:8080/"
        }
      },
      "outputs": [
        {
          "output_type": "stream",
          "name": "stdout",
          "text": [
            "The image has dimensions 416x416 and 3 channels.\n"
          ]
        }
      ],
      "source": [
        "image = cv2.imread(\"/content/Comida2.0.v1i/train/images/----_jpg.rf.1ddba127dd12741bd457a0c82c39a155_hf.jpg\")\n",
        "h, w, c = image.shape\n",
        "print(f\"The image has dimensions {w}x{h} and {c} channels.\")"
      ]
    },
    {
      "cell_type": "code",
      "execution_count": null,
      "metadata": {
        "id": "RAoJ1zX0Rhd_"
      },
      "outputs": [],
      "source": [
        "model = YOLO(\"yolov8n.pt\")\n",
        "\n",
        "# Use the model to detect object\n",
        "image = \"/content/Comida2.0.v1i/train/images/----_jpg.rf.1ddba127dd12741bd457a0c82c39a155_hf.jpg\"\n",
        "result_predict = model.predict(source = image, imgsz=(416))\n",
        "\n",
        "# show results\n",
        "plot = result_predict[0].plot()\n",
        "plot = cv2.cvtColor(plot, cv2.COLOR_BGR2RGB)\n",
        "display(Image.fromarray(plot))"
      ]
    },
    {
      "cell_type": "code",
      "execution_count": null,
      "metadata": {
        "id": "CRkc1V26SNjD"
      },
      "outputs": [],
      "source": [
        "Final_model = YOLO('yolov8n.pt')\n",
        "Result_Final_model = Final_model.train(data=\"/content/Comida2.0.v1i/data.yaml\", epochs=100, patience=20, batch = 16, cache = True, imgsz=416, iou = 0.5, augment=True, degrees=25.0, fliplr=0.0, lr0=0.0001, optimizer='Adam')"
      ]
    },
    {
      "cell_type": "code",
      "execution_count": null,
      "metadata": {
        "id": "WwK7aj8x8lL1"
      },
      "outputs": [],
      "source": [
        "print('result of training')\n",
        "tpaths2=[]\n",
        "for dirname, _, filenames in os.walk('/content/runs/detect/train'):\n",
        "    for filename in filenames:\n",
        "        if filename[-4:]=='.png' or filename[-4:]=='.jpg':\n",
        "            tpaths2+=[(os.path.join(dirname, filename))]\n",
        "tpaths2=sorted(tpaths2)\n",
        "print(tpaths2[0])"
      ]
    },
    {
      "cell_type": "code",
      "execution_count": null,
      "metadata": {
        "id": "J-SF8RZ38lOo"
      },
      "outputs": [],
      "source": [
        "for path in tpaths2:\n",
        "    image = Image.open(path)\n",
        "    image=np.array(image)\n",
        "    plt.figure(figsize=(10,10))\n",
        "    plt.imshow(image)\n",
        "    plt.show()"
      ]
    },
    {
      "cell_type": "code",
      "execution_count": 12,
      "metadata": {
        "colab": {
          "base_uri": "https://localhost:8080/"
        },
        "id": "2dv8g3Te8lRs",
        "outputId": "703f9ed8-0acc-4c39-d464-6044126d537d"
      },
      "outputs": [
        {
          "output_type": "stream",
          "name": "stdout",
          "text": [
            "Predict\n"
          ]
        }
      ],
      "source": [
        "print('Predict')\n",
        "best_path0='/content/runs/detect/train/weights/best.pt'\n",
        "source0='/content/Comida2.0.v1i/valid/images'"
      ]
    },
    {
      "cell_type": "code",
      "execution_count": 13,
      "metadata": {
        "colab": {
          "base_uri": "https://localhost:8080/"
        },
        "id": "ZxYgVQHj8lUY",
        "outputId": "88dc8ab0-8b1e-4477-b382-df1aa19313bb"
      },
      "outputs": [
        {
          "output_type": "stream",
          "name": "stdout",
          "text": [
            "/content/Comida2.0.v1i/valid/images/007_jpg.rf.bdf4efdbad0d7ce195263e3c21856a27.jpg\n"
          ]
        }
      ],
      "source": [
        "ppaths=[]\n",
        "for dirname, _, filenames in os.walk(source0):\n",
        "    for filename in filenames:\n",
        "        if filename[-4:]=='.jpg':\n",
        "            ppaths+=[(os.path.join(dirname, filename))]\n",
        "ppaths=sorted(ppaths)\n",
        "print(ppaths[0])"
      ]
    },
    {
      "cell_type": "code",
      "execution_count": 14,
      "metadata": {
        "colab": {
          "base_uri": "https://localhost:8080/"
        },
        "id": "-iydv0FB8lXA",
        "outputId": "c2e61cb1-2521-4b65-95d3-925e4b81fa04"
      },
      "outputs": [
        {
          "output_type": "stream",
          "name": "stdout",
          "text": [
            "yolo task=detect mode=predict\n"
          ]
        }
      ],
      "source": [
        "model2 = YOLO(best_path0)\n",
        "print('yolo task=detect mode=predict')"
      ]
    },
    {
      "cell_type": "code",
      "execution_count": null,
      "metadata": {
        "id": "tDvbyveq8lcV"
      },
      "outputs": [],
      "source": [
        "!yolo task=detect mode=predict model={best_path0} conf=0.4 source={source0}"
      ]
    },
    {
      "cell_type": "code",
      "execution_count": null,
      "metadata": {
        "id": "UH8xMLw-JZia"
      },
      "outputs": [],
      "source": [
        "print('Result of Prediction')\n",
        "results = model2.predict(source0,conf=0.4)\n",
        "print(len(results))"
      ]
    },
    {
      "cell_type": "code",
      "execution_count": null,
      "metadata": {
        "id": "WfealxI2Ki71"
      },
      "outputs": [],
      "source": [
        "PBOX=pd.DataFrame(columns=range(6))\n",
        "for i in range(len(results)):\n",
        "    arri=pd.DataFrame(results[i].boxes.data).astype(float)\n",
        "    path=ppaths[i]\n",
        "    file=path.split('/')[-1]\n",
        "    arri=arri.assign(file=file)\n",
        "    arri=arri.assign(i=i)\n",
        "    PBOX=pd.concat([PBOX,arri],axis=0)\n",
        "PBOX.columns=['x','y','x2','y2','confidence','class','file','i']\n",
        "display(PBOX)"
      ]
    },
    {
      "cell_type": "code",
      "execution_count": 35,
      "metadata": {
        "id": "qktSEqx1yFQg",
        "colab": {
          "base_uri": "https://localhost:8080/"
        },
        "outputId": "4a310818-afe0-494e-bdaf-f209e47fa376"
      },
      "outputs": [
        {
          "output_type": "stream",
          "name": "stdout",
          "text": [
            "beet\n"
          ]
        }
      ],
      "source": [
        "class_map = {\n",
        "    0: 'beet',\n",
        "    1: 'bell_pepper',\n",
        "    2: 'cabbage',\n",
        "    3: 'carrot',\n",
        "    4: 'cucumber',\n",
        "    5: 'egg',\n",
        "    6: 'eggplant',\n",
        "    7: 'garlic',\n",
        "    8: 'onion',\n",
        "    9: 'potato',\n",
        "    10: 'tomato',\n",
        "    11: 'zucchini'\n",
        "}\n",
        "\n",
        "# Accessing a specific item\n",
        "print(class_map[0])\n"
      ]
    },
    {
      "cell_type": "code",
      "execution_count": null,
      "metadata": {
        "id": "Ylo9B_eOKjCz"
      },
      "outputs": [],
      "source": [
        "PBOX['class'] = PBOX['class'].apply(lambda x: class_map[int(x)])\n",
        "PBOX = PBOX.reset_index(drop=True)\n",
        "display(PBOX)\n",
        "display(PBOX['class'].value_counts())"
      ]
    },
    {
      "cell_type": "code",
      "execution_count": 37,
      "metadata": {
        "id": "LkikJohL8le5"
      },
      "outputs": [],
      "source": [
        "def draw_box2(n0):\n",
        "\n",
        "    ipath=ppaths[n0]\n",
        "    image=cv2.imread(ipath)\n",
        "    H,W=image.shape[0],image.shape[1]\n",
        "    file=ipath.split('/')[-1]\n",
        "\n",
        "    if PBOX[PBOX['file']==file] is not None:\n",
        "        box=PBOX[PBOX['file']==file]\n",
        "        box=box.reset_index(drop=True)\n",
        "        #display(box)\n",
        "\n",
        "        for i in range(len(box)):\n",
        "            label=box.loc[i,'class']\n",
        "            x=int(box.loc[i,'x'])\n",
        "            y=int(box.loc[i,'y'])\n",
        "            x2=int(box.loc[i,'x2'])\n",
        "            y2=int(box.loc[i,'y2'])\n",
        "            #print(label,x,y,x2,y2)\n",
        "            cv2.putText(image, f'{label}', (x, int(y-4)),\n",
        "                        cv2.FONT_HERSHEY_SIMPLEX, 1.0, (0,255,0),2)\n",
        "            cv2.rectangle(image,(x,y),(x2,y2),(0,255,0),2) #green\n",
        "\n",
        "    #plt.imshow(image)\n",
        "    #plt.show()\n",
        "\n",
        "    return image"
      ]
    },
    {
      "cell_type": "code",
      "execution_count": 38,
      "metadata": {
        "id": "UtNWV8Kg8lhf"
      },
      "outputs": [],
      "source": [
        "def create_animation(ims):\n",
        "    fig=plt.figure(figsize=(12,8))\n",
        "    im=plt.imshow(cv2.cvtColor(ims[0],cv2.COLOR_BGR2RGB))\n",
        "    text = plt.text(0.05, 0.05, f'Slide {0}', transform=fig.transFigure, fontsize=14, color='blue')\n",
        "    plt.axis('off')\n",
        "    plt.close()\n",
        "\n",
        "    def animate_func(i):\n",
        "        im.set_array(cv2.cvtColor(ims[i],cv2.COLOR_BGR2RGB))\n",
        "        text.set_text(f'Slide {20+i}')\n",
        "        return [im]\n",
        "\n",
        "    return animation.FuncAnimation(fig, animate_func, frames=len(ims), interval=1000)"
      ]
    },
    {
      "cell_type": "code",
      "execution_count": 39,
      "metadata": {
        "colab": {
          "base_uri": "https://localhost:8080/",
          "height": 49,
          "referenced_widgets": [
            "69e0e41017df4980bd5007943b18ca62",
            "ee0b0dd6f8374a2e998ede90479333e0",
            "d7ee5f41ffdf4630b39cacdb8fd8a42a",
            "bcc46899dfa94d2d9494d4b8ac22089d",
            "0dfba4ace7434dca8984f96e8016d046",
            "5574fb989c8642f98e4a4a6df1a737eb",
            "0358ce94caa248b09ec9d4f332c353c9",
            "93670cd911414ed98c688ebe492c6cf4",
            "799f0677cafd41988c33acf0d607d697",
            "8da4aa89ba48441eb29104d2e85a19ce",
            "4503194d6ff644aa9e3079adebcc5e17"
          ]
        },
        "id": "zrnzJfSL8ljw",
        "outputId": "142b3316-1cf9-4d94-b298-4c1e46c92f9f"
      },
      "outputs": [
        {
          "output_type": "display_data",
          "data": {
            "text/plain": [
              "  0%|          | 0/213 [00:00<?, ?it/s]"
            ],
            "application/vnd.jupyter.widget-view+json": {
              "version_major": 2,
              "version_minor": 0,
              "model_id": "69e0e41017df4980bd5007943b18ca62"
            }
          },
          "metadata": {}
        }
      ],
      "source": [
        "images2=[]\n",
        "for i in tqdm(range(len(ppaths))):\n",
        "    images2+=[draw_box2(i)]"
      ]
    },
    {
      "cell_type": "code",
      "execution_count": null,
      "metadata": {
        "id": "nxo3B6UCJ-qF"
      },
      "outputs": [],
      "source": [
        "create_animation(images2)"
      ]
    }
  ],
  "metadata": {
    "colab": {
      "machine_shape": "hm",
      "provenance": [],
      "authorship_tag": "ABX9TyONifjAilc+8yIvkkft7n13",
      "include_colab_link": true
    },
    "kernelspec": {
      "display_name": "Python 3",
      "name": "python3"
    },
    "language_info": {
      "name": "python"
    },
    "widgets": {
      "application/vnd.jupyter.widget-state+json": {
        "69e0e41017df4980bd5007943b18ca62": {
          "model_module": "@jupyter-widgets/controls",
          "model_name": "HBoxModel",
          "model_module_version": "1.5.0",
          "state": {
            "_dom_classes": [],
            "_model_module": "@jupyter-widgets/controls",
            "_model_module_version": "1.5.0",
            "_model_name": "HBoxModel",
            "_view_count": null,
            "_view_module": "@jupyter-widgets/controls",
            "_view_module_version": "1.5.0",
            "_view_name": "HBoxView",
            "box_style": "",
            "children": [
              "IPY_MODEL_ee0b0dd6f8374a2e998ede90479333e0",
              "IPY_MODEL_d7ee5f41ffdf4630b39cacdb8fd8a42a",
              "IPY_MODEL_bcc46899dfa94d2d9494d4b8ac22089d"
            ],
            "layout": "IPY_MODEL_0dfba4ace7434dca8984f96e8016d046"
          }
        },
        "ee0b0dd6f8374a2e998ede90479333e0": {
          "model_module": "@jupyter-widgets/controls",
          "model_name": "HTMLModel",
          "model_module_version": "1.5.0",
          "state": {
            "_dom_classes": [],
            "_model_module": "@jupyter-widgets/controls",
            "_model_module_version": "1.5.0",
            "_model_name": "HTMLModel",
            "_view_count": null,
            "_view_module": "@jupyter-widgets/controls",
            "_view_module_version": "1.5.0",
            "_view_name": "HTMLView",
            "description": "",
            "description_tooltip": null,
            "layout": "IPY_MODEL_5574fb989c8642f98e4a4a6df1a737eb",
            "placeholder": "​",
            "style": "IPY_MODEL_0358ce94caa248b09ec9d4f332c353c9",
            "value": "100%"
          }
        },
        "d7ee5f41ffdf4630b39cacdb8fd8a42a": {
          "model_module": "@jupyter-widgets/controls",
          "model_name": "FloatProgressModel",
          "model_module_version": "1.5.0",
          "state": {
            "_dom_classes": [],
            "_model_module": "@jupyter-widgets/controls",
            "_model_module_version": "1.5.0",
            "_model_name": "FloatProgressModel",
            "_view_count": null,
            "_view_module": "@jupyter-widgets/controls",
            "_view_module_version": "1.5.0",
            "_view_name": "ProgressView",
            "bar_style": "success",
            "description": "",
            "description_tooltip": null,
            "layout": "IPY_MODEL_93670cd911414ed98c688ebe492c6cf4",
            "max": 213,
            "min": 0,
            "orientation": "horizontal",
            "style": "IPY_MODEL_799f0677cafd41988c33acf0d607d697",
            "value": 213
          }
        },
        "bcc46899dfa94d2d9494d4b8ac22089d": {
          "model_module": "@jupyter-widgets/controls",
          "model_name": "HTMLModel",
          "model_module_version": "1.5.0",
          "state": {
            "_dom_classes": [],
            "_model_module": "@jupyter-widgets/controls",
            "_model_module_version": "1.5.0",
            "_model_name": "HTMLModel",
            "_view_count": null,
            "_view_module": "@jupyter-widgets/controls",
            "_view_module_version": "1.5.0",
            "_view_name": "HTMLView",
            "description": "",
            "description_tooltip": null,
            "layout": "IPY_MODEL_8da4aa89ba48441eb29104d2e85a19ce",
            "placeholder": "​",
            "style": "IPY_MODEL_4503194d6ff644aa9e3079adebcc5e17",
            "value": " 213/213 [00:01&lt;00:00, 201.13it/s]"
          }
        },
        "0dfba4ace7434dca8984f96e8016d046": {
          "model_module": "@jupyter-widgets/base",
          "model_name": "LayoutModel",
          "model_module_version": "1.2.0",
          "state": {
            "_model_module": "@jupyter-widgets/base",
            "_model_module_version": "1.2.0",
            "_model_name": "LayoutModel",
            "_view_count": null,
            "_view_module": "@jupyter-widgets/base",
            "_view_module_version": "1.2.0",
            "_view_name": "LayoutView",
            "align_content": null,
            "align_items": null,
            "align_self": null,
            "border": null,
            "bottom": null,
            "display": null,
            "flex": null,
            "flex_flow": null,
            "grid_area": null,
            "grid_auto_columns": null,
            "grid_auto_flow": null,
            "grid_auto_rows": null,
            "grid_column": null,
            "grid_gap": null,
            "grid_row": null,
            "grid_template_areas": null,
            "grid_template_columns": null,
            "grid_template_rows": null,
            "height": null,
            "justify_content": null,
            "justify_items": null,
            "left": null,
            "margin": null,
            "max_height": null,
            "max_width": null,
            "min_height": null,
            "min_width": null,
            "object_fit": null,
            "object_position": null,
            "order": null,
            "overflow": null,
            "overflow_x": null,
            "overflow_y": null,
            "padding": null,
            "right": null,
            "top": null,
            "visibility": null,
            "width": null
          }
        },
        "5574fb989c8642f98e4a4a6df1a737eb": {
          "model_module": "@jupyter-widgets/base",
          "model_name": "LayoutModel",
          "model_module_version": "1.2.0",
          "state": {
            "_model_module": "@jupyter-widgets/base",
            "_model_module_version": "1.2.0",
            "_model_name": "LayoutModel",
            "_view_count": null,
            "_view_module": "@jupyter-widgets/base",
            "_view_module_version": "1.2.0",
            "_view_name": "LayoutView",
            "align_content": null,
            "align_items": null,
            "align_self": null,
            "border": null,
            "bottom": null,
            "display": null,
            "flex": null,
            "flex_flow": null,
            "grid_area": null,
            "grid_auto_columns": null,
            "grid_auto_flow": null,
            "grid_auto_rows": null,
            "grid_column": null,
            "grid_gap": null,
            "grid_row": null,
            "grid_template_areas": null,
            "grid_template_columns": null,
            "grid_template_rows": null,
            "height": null,
            "justify_content": null,
            "justify_items": null,
            "left": null,
            "margin": null,
            "max_height": null,
            "max_width": null,
            "min_height": null,
            "min_width": null,
            "object_fit": null,
            "object_position": null,
            "order": null,
            "overflow": null,
            "overflow_x": null,
            "overflow_y": null,
            "padding": null,
            "right": null,
            "top": null,
            "visibility": null,
            "width": null
          }
        },
        "0358ce94caa248b09ec9d4f332c353c9": {
          "model_module": "@jupyter-widgets/controls",
          "model_name": "DescriptionStyleModel",
          "model_module_version": "1.5.0",
          "state": {
            "_model_module": "@jupyter-widgets/controls",
            "_model_module_version": "1.5.0",
            "_model_name": "DescriptionStyleModel",
            "_view_count": null,
            "_view_module": "@jupyter-widgets/base",
            "_view_module_version": "1.2.0",
            "_view_name": "StyleView",
            "description_width": ""
          }
        },
        "93670cd911414ed98c688ebe492c6cf4": {
          "model_module": "@jupyter-widgets/base",
          "model_name": "LayoutModel",
          "model_module_version": "1.2.0",
          "state": {
            "_model_module": "@jupyter-widgets/base",
            "_model_module_version": "1.2.0",
            "_model_name": "LayoutModel",
            "_view_count": null,
            "_view_module": "@jupyter-widgets/base",
            "_view_module_version": "1.2.0",
            "_view_name": "LayoutView",
            "align_content": null,
            "align_items": null,
            "align_self": null,
            "border": null,
            "bottom": null,
            "display": null,
            "flex": null,
            "flex_flow": null,
            "grid_area": null,
            "grid_auto_columns": null,
            "grid_auto_flow": null,
            "grid_auto_rows": null,
            "grid_column": null,
            "grid_gap": null,
            "grid_row": null,
            "grid_template_areas": null,
            "grid_template_columns": null,
            "grid_template_rows": null,
            "height": null,
            "justify_content": null,
            "justify_items": null,
            "left": null,
            "margin": null,
            "max_height": null,
            "max_width": null,
            "min_height": null,
            "min_width": null,
            "object_fit": null,
            "object_position": null,
            "order": null,
            "overflow": null,
            "overflow_x": null,
            "overflow_y": null,
            "padding": null,
            "right": null,
            "top": null,
            "visibility": null,
            "width": null
          }
        },
        "799f0677cafd41988c33acf0d607d697": {
          "model_module": "@jupyter-widgets/controls",
          "model_name": "ProgressStyleModel",
          "model_module_version": "1.5.0",
          "state": {
            "_model_module": "@jupyter-widgets/controls",
            "_model_module_version": "1.5.0",
            "_model_name": "ProgressStyleModel",
            "_view_count": null,
            "_view_module": "@jupyter-widgets/base",
            "_view_module_version": "1.2.0",
            "_view_name": "StyleView",
            "bar_color": null,
            "description_width": ""
          }
        },
        "8da4aa89ba48441eb29104d2e85a19ce": {
          "model_module": "@jupyter-widgets/base",
          "model_name": "LayoutModel",
          "model_module_version": "1.2.0",
          "state": {
            "_model_module": "@jupyter-widgets/base",
            "_model_module_version": "1.2.0",
            "_model_name": "LayoutModel",
            "_view_count": null,
            "_view_module": "@jupyter-widgets/base",
            "_view_module_version": "1.2.0",
            "_view_name": "LayoutView",
            "align_content": null,
            "align_items": null,
            "align_self": null,
            "border": null,
            "bottom": null,
            "display": null,
            "flex": null,
            "flex_flow": null,
            "grid_area": null,
            "grid_auto_columns": null,
            "grid_auto_flow": null,
            "grid_auto_rows": null,
            "grid_column": null,
            "grid_gap": null,
            "grid_row": null,
            "grid_template_areas": null,
            "grid_template_columns": null,
            "grid_template_rows": null,
            "height": null,
            "justify_content": null,
            "justify_items": null,
            "left": null,
            "margin": null,
            "max_height": null,
            "max_width": null,
            "min_height": null,
            "min_width": null,
            "object_fit": null,
            "object_position": null,
            "order": null,
            "overflow": null,
            "overflow_x": null,
            "overflow_y": null,
            "padding": null,
            "right": null,
            "top": null,
            "visibility": null,
            "width": null
          }
        },
        "4503194d6ff644aa9e3079adebcc5e17": {
          "model_module": "@jupyter-widgets/controls",
          "model_name": "DescriptionStyleModel",
          "model_module_version": "1.5.0",
          "state": {
            "_model_module": "@jupyter-widgets/controls",
            "_model_module_version": "1.5.0",
            "_model_name": "DescriptionStyleModel",
            "_view_count": null,
            "_view_module": "@jupyter-widgets/base",
            "_view_module_version": "1.2.0",
            "_view_name": "StyleView",
            "description_width": ""
          }
        }
      }
    }
  },
  "nbformat": 4,
  "nbformat_minor": 0
}