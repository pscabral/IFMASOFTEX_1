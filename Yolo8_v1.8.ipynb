{
  "cells": [
    {
      "cell_type": "markdown",
      "metadata": {
        "id": "view-in-github",
        "colab_type": "text"
      },
      "source": [
        "<a href=\"https://colab.research.google.com/github/pscabral/IFMASOFTEX_1/blob/main/Yolo8_v1.8.ipynb\" target=\"_parent\"><img src=\"https://colab.research.google.com/assets/colab-badge.svg\" alt=\"Open In Colab\"/></a>"
      ]
    },
    {
      "cell_type": "code",
      "source": [
        "!pip install mega.py\n",
        "\n",
        "from mega import Mega\n",
        "\n",
        "# Crie uma instância da classe Mega\n",
        "mega = Mega()\n",
        "\n",
        "# Cole o link completo do Mega.nz (incluindo a chave)\n",
        "url = \"https://mega.nz/file/gzcmkBbS#Xo0iwU47Ffld8w4sqtNYtDkjh5vmSud05X_xqLEjVGw\"\n",
        "\n",
        "# Use o link completo para fazer o download\n",
        "mega.download_url(url)\n",
        "\n",
        "!unzip Comida2.0.v1i.yolov8.zip -d comida2.0.v1i"
      ],
      "metadata": {
        "id": "AT2JBmpNPUN6"
      },
      "execution_count": null,
      "outputs": []
    },
    {
      "cell_type": "code",
      "source": [
        "!pip install ultralytics"
      ],
      "metadata": {
        "id": "HjDU8ZMkmhrQ"
      },
      "execution_count": null,
      "outputs": []
    },
    {
      "cell_type": "code",
      "source": [
        "!pip install albumentations"
      ],
      "metadata": {
        "id": "RSZEtxfdmoEE"
      },
      "execution_count": null,
      "outputs": []
    },
    {
      "cell_type": "code",
      "execution_count": 4,
      "metadata": {
        "id": "SrOSUGwSRhV6"
      },
      "outputs": [],
      "source": [
        "import os\n",
        "import random\n",
        "import shutil\n",
        "from pathlib import Path\n",
        "\n",
        "import pandas as pd\n",
        "from PIL import Image\n",
        "import cv2\n",
        "from ultralytics import YOLO\n",
        "from IPython.display import Video\n",
        "import numpy as np\n",
        "import matplotlib.pyplot as plt\n",
        "import seaborn as sns\n",
        "from tqdm.notebook import trange, tqdm\n",
        "import warnings\n",
        "import glob\n",
        "import albumentations as A\n",
        "import matplotlib.pyplot as plt\n",
        "from shutil import copyfile\n",
        "from matplotlib import animation, rc\n",
        "rc('animation', html='jshtml')"
      ]
    },
    {
      "cell_type": "code",
      "source": [
        "def transformer(image_folder_path, annotation_folder_path):\n",
        "    image_folder = Path(image_folder_path)\n",
        "    annotation_folder = Path(annotation_folder_path)\n",
        "\n",
        "    for image_path in image_folder.glob('**/*.jpg'):\n",
        "        image_name = image_path.stem\n",
        "        relative_label_path = image_path.relative_to(image_folder).with_suffix('.txt')\n",
        "        label_path = annotation_folder / relative_label_path\n",
        "\n",
        "        try:\n",
        "            print(f'Processando: {image_name}')\n",
        "\n",
        "            if not label_path.exists():\n",
        "                print(f'Aviso: O arquivo de anotação não existe para {image_name}')\n",
        "                continue\n",
        "\n",
        "            horizontal_flip(image_path, label_path, image_name)\n",
        "            vertical_flip(image_path, label_path, image_name)\n",
        "\n",
        "            print(f'{image_name} processado com sucesso')\n",
        "\n",
        "        except Exception as e:\n",
        "            print(f'Falhou: {image_name}. Erro: {e}')\n",
        "\n",
        "def horizontal_flip(image_path, label_path, save_name):\n",
        "    try:\n",
        "        print(f'  Aplicando transformação horizontal para: {image_path}')\n",
        "\n",
        "        image = cv2.imread(str(image_path))\n",
        "\n",
        "        with open(label_path, 'r') as f:\n",
        "            lines = f.readlines()\n",
        "\n",
        "        bbox = []\n",
        "        for line in lines:\n",
        "            l = line.split(' ')\n",
        "            bbox.append([float(l[1]), float(l[2]), float(l[3]), float(l[4]), str(l[0])])\n",
        "\n",
        "        transform = A.Compose([A.HorizontalFlip()], bbox_params=A.BboxParams(format='yolo'))\n",
        "        transformed = transform(image=image, bboxes=bbox)\n",
        "\n",
        "        image_transformed = transformed['image']\n",
        "        boxes = transformed['bboxes']\n",
        "\n",
        "        save_image_path = image_path.parent / f'{save_name}_hf.jpg'\n",
        "        cv2.imwrite(str(save_image_path), image_transformed)\n",
        "\n",
        "        save_label_path = label_path.parent / f'{save_name}_hf.txt'\n",
        "        with open(str(save_label_path), 'w') as f:\n",
        "            for box in boxes:\n",
        "                f.write(f\"{box[-1]} {box[0]} {box[1]} {box[2]} {box[3]}\\n\")\n",
        "\n",
        "        print(f'  Transformação concluída para: {image_path}')\n",
        "\n",
        "    except Exception as e:\n",
        "        raise RuntimeError(f'Falhou: {save_name}. Erro: {e}')\n",
        "\n",
        "def vertical_flip(image_path, label_path, save_name):\n",
        "    try:\n",
        "        print(f'  Aplicando transformação vertical para: {image_path}')\n",
        "\n",
        "        image = cv2.imread(str(image_path))\n",
        "\n",
        "        with open(label_path, 'r') as f:\n",
        "            lines = f.readlines()\n",
        "\n",
        "        bbox = []\n",
        "        for line in lines:\n",
        "            l = line.split(' ')\n",
        "            bbox.append([float(l[1]), float(l[2]), float(l[3]), float(l[4]), str(l[0])])\n",
        "\n",
        "        transform = A.Compose([A.VerticalFlip()], bbox_params=A.BboxParams(format='yolo'))\n",
        "        transformed = transform(image=image, bboxes=bbox)\n",
        "\n",
        "        image_transformed = transformed['image']\n",
        "        boxes = transformed['bboxes']\n",
        "\n",
        "        save_image_path = image_path.parent / f'{save_name}_vf.jpg'\n",
        "        cv2.imwrite(str(save_image_path), image_transformed)\n",
        "\n",
        "        save_label_path = label_path.parent / f'{save_name}_vf.txt'\n",
        "        with open(str(save_label_path), 'w') as f:\n",
        "            for box in boxes:\n",
        "                f.write(f\"{box[-1]} {box[0]} {box[1]} {box[2]} {box[3]}\\n\")\n",
        "\n",
        "        print(f'  Transformação concluída para: {image_path}')\n",
        "\n",
        "    except Exception as e:\n",
        "        raise RuntimeError(f'Falhou: {save_name}. Erro: {e}')\n",
        "\n",
        "# Caminhos dos diretórios\n",
        "image_folder_path = '/content/comida2.0.v1i/train/images'\n",
        "annotation_folder_path = '/content/comida2.0.v1i/train/labels'\n",
        "\n",
        "# Executar a transformação\n",
        "transformer(image_folder_path, annotation_folder_path)\n"
      ],
      "metadata": {
        "id": "JvkGRS9sGQ7d"
      },
      "execution_count": null,
      "outputs": []
    },
    {
      "cell_type": "code",
      "source": [
        "Image_dir = '/content/comida2.0.v1i/train/images'\n",
        "\n",
        "num_samples = 9\n",
        "image_files = os.listdir(Image_dir)\n",
        "\n",
        "# Randomly select num_samples images\n",
        "rand_images = random.sample(image_files, num_samples)\n",
        "\n",
        "fig, axes = plt.subplots(3, 3, figsize=(11, 11))\n",
        "\n",
        "for i in range(num_samples):\n",
        "    image = rand_images[i]\n",
        "    ax = axes[i // 3, i % 3]\n",
        "    ax.imshow(plt.imread(os.path.join(Image_dir, image)))\n",
        "    ax.set_title(f'Image {i+1}')\n",
        "    ax.axis('off')\n",
        "\n",
        "plt.tight_layout()\n",
        "plt.show()"
      ],
      "metadata": {
        "id": "_DqCkkrdbttm"
      },
      "execution_count": null,
      "outputs": []
    },
    {
      "cell_type": "code",
      "execution_count": 7,
      "metadata": {
        "id": "vBpJOCHERhbN",
        "colab": {
          "base_uri": "https://localhost:8080/"
        },
        "outputId": "688b93b6-6eea-47d6-d506-32052c16a756"
      },
      "outputs": [
        {
          "output_type": "stream",
          "name": "stdout",
          "text": [
            "The image has dimensions 416x416 and 3 channels.\n"
          ]
        }
      ],
      "source": [
        "image = cv2.imread(\"/content/comida2.0.v1i/train/images/----_jpg.rf.1ddba127dd12741bd457a0c82c39a155_hf.jpg\")\n",
        "h, w, c = image.shape\n",
        "print(f\"The image has dimensions {w}x{h} and {c} channels.\")"
      ]
    },
    {
      "cell_type": "code",
      "execution_count": null,
      "metadata": {
        "id": "RAoJ1zX0Rhd_"
      },
      "outputs": [],
      "source": [
        "model = YOLO(\"yolov8s.pt\")\n",
        "\n",
        "# Use the model to detect object\n",
        "image = \"/content/comida2.0.v1i/train/images/----_jpg.rf.1ddba127dd12741bd457a0c82c39a155_hf.jpg\"\n",
        "result_predict = model.predict(source = image, imgsz=(416))\n",
        "\n",
        "# show results\n",
        "plot = result_predict[0].plot()\n",
        "plot = cv2.cvtColor(plot, cv2.COLOR_BGR2RGB)\n",
        "display(Image.fromarray(plot))"
      ]
    },
    {
      "cell_type": "code",
      "execution_count": null,
      "metadata": {
        "id": "CRkc1V26SNjD"
      },
      "outputs": [],
      "source": [
        "Final_model = YOLO('yolov8s.pt')\n",
        "Result_Final_model = Final_model.train(data=\"/content/comida2.0.v1i/data.yaml\", epochs=20, patience=20, batch = 16, cache = True, imgsz=416, iou = 0.5, augment=True, degrees=25.0, fliplr=0.0, lr0=0.0001, optimizer='Adam')"
      ]
    },
    {
      "cell_type": "code",
      "execution_count": 14,
      "metadata": {
        "colab": {
          "base_uri": "https://localhost:8080/"
        },
        "id": "WwK7aj8x8lL1",
        "outputId": "bdb51a6b-07df-4bc1-901a-86d9b382f61a"
      },
      "outputs": [
        {
          "output_type": "stream",
          "name": "stdout",
          "text": [
            "result of training\n",
            "/content/runs/detect/train/F1_curve.png\n"
          ]
        }
      ],
      "source": [
        "print('result of training')\n",
        "tpaths2=[]\n",
        "for dirname, _, filenames in os.walk('/content/runs/detect/train'):\n",
        "    for filename in filenames:\n",
        "        if filename[-4:]=='.png' or filename[-4:]=='.jpg':\n",
        "            tpaths2+=[(os.path.join(dirname, filename))]\n",
        "tpaths2=sorted(tpaths2)\n",
        "print(tpaths2[0])"
      ]
    },
    {
      "cell_type": "code",
      "execution_count": null,
      "metadata": {
        "id": "J-SF8RZ38lOo"
      },
      "outputs": [],
      "source": [
        "for path in tpaths2:\n",
        "    image = Image.open(path)\n",
        "    image=np.array(image)\n",
        "    plt.figure(figsize=(10,10))\n",
        "    plt.imshow(image)\n",
        "    plt.show()"
      ]
    },
    {
      "cell_type": "code",
      "execution_count": 16,
      "metadata": {
        "colab": {
          "base_uri": "https://localhost:8080/"
        },
        "id": "2dv8g3Te8lRs",
        "outputId": "5c6fbfb9-408a-400a-988e-21d8d39f2cf1"
      },
      "outputs": [
        {
          "output_type": "stream",
          "name": "stdout",
          "text": [
            "Predict\n"
          ]
        }
      ],
      "source": [
        "print('Predict')\n",
        "best_path0='/content/runs/detect/train/weights/best.pt'\n",
        "source0='/content/comida2.0.v1i/valid/images'"
      ]
    },
    {
      "cell_type": "code",
      "execution_count": 17,
      "metadata": {
        "colab": {
          "base_uri": "https://localhost:8080/"
        },
        "id": "ZxYgVQHj8lUY",
        "outputId": "70e35fc3-8141-4bb4-bafa-a3d7d83634c0"
      },
      "outputs": [
        {
          "output_type": "stream",
          "name": "stdout",
          "text": [
            "/content/comida2.0.v1i/valid/images/007_jpg.rf.bdf4efdbad0d7ce195263e3c21856a27.jpg\n"
          ]
        }
      ],
      "source": [
        "ppaths=[]\n",
        "for dirname, _, filenames in os.walk(source0):\n",
        "    for filename in filenames:\n",
        "        if filename[-4:]=='.jpg':\n",
        "            ppaths+=[(os.path.join(dirname, filename))]\n",
        "ppaths=sorted(ppaths)\n",
        "print(ppaths[0])"
      ]
    },
    {
      "cell_type": "code",
      "execution_count": 18,
      "metadata": {
        "colab": {
          "base_uri": "https://localhost:8080/"
        },
        "id": "-iydv0FB8lXA",
        "outputId": "5fad0e19-0868-40cb-8ac2-38becb07881a"
      },
      "outputs": [
        {
          "output_type": "stream",
          "name": "stdout",
          "text": [
            "yolo task=detect mode=predict\n"
          ]
        }
      ],
      "source": [
        "model2 = YOLO(best_path0)\n",
        "print('yolo task=detect mode=predict')"
      ]
    },
    {
      "cell_type": "code",
      "execution_count": null,
      "metadata": {
        "id": "tDvbyveq8lcV"
      },
      "outputs": [],
      "source": [
        "!yolo task=detect mode=predict model={best_path0} conf=0.4 source={source0}"
      ]
    },
    {
      "cell_type": "code",
      "execution_count": null,
      "metadata": {
        "id": "UH8xMLw-JZia"
      },
      "outputs": [],
      "source": [
        "print('Result of Prediction')\n",
        "results = model2.predict(source0,conf=0.4)\n",
        "print(len(results))"
      ]
    },
    {
      "cell_type": "code",
      "execution_count": null,
      "metadata": {
        "id": "WfealxI2Ki71"
      },
      "outputs": [],
      "source": [
        "PBOX=pd.DataFrame(columns=range(6))\n",
        "for i in range(len(results)):\n",
        "    arri=pd.DataFrame(results[i].boxes.data).astype(float)\n",
        "    path=ppaths[i]\n",
        "    file=path.split('/')[-1]\n",
        "    arri=arri.assign(file=file)\n",
        "    arri=arri.assign(i=i)\n",
        "    PBOX=pd.concat([PBOX,arri],axis=0)\n",
        "PBOX.columns=['x','y','x2','y2','confidence','class','file','i']\n",
        "display(PBOX)"
      ]
    },
    {
      "cell_type": "code",
      "execution_count": null,
      "metadata": {
        "id": "qktSEqx1yFQg"
      },
      "outputs": [],
      "source": [
        "class_map = {\n",
        "    0: 'Maçã',\n",
        "    1: 'Banana',\n",
        "    2: 'Livro',\n",
        "    3: 'Caixa de Cereal',\n",
        "    4: 'Kochujang',\n",
        "    5: 'Laranja',\n",
        "    6: 'maçã',\n",
        "    7: 'abacate',\n",
        "    8: 'bacon',\n",
        "    9: 'banana',\n",
        "    10: 'carne bovina',\n",
        "    11: 'pão',\n",
        "    12: 'bardana',\n",
        "    13: 'manteiga',\n",
        "    14: 'repolho',\n",
        "    15: 'milho enlatado',\n",
        "    16: 'atum enlatado',\n",
        "    17: 'cenoura',\n",
        "    18: 'queijo',\n",
        "    19: 'frango',\n",
        "    20: 'pimenta em pó',\n",
        "    21: 'pão de chocolate',\n",
        "    22: 'canela',\n",
        "    23: 'óleo de cozinha',\n",
        "    24: 'milho',\n",
        "    25: 'flocos de milho',\n",
        "    26: 'carne de caranguejo',\n",
        "    27: 'pepino',\n",
        "    28: 'curry em pó',\n",
        "    29: 'bolinho',\n",
        "    30: 'ovo',\n",
        "    31: 'bolo de peixe',\n",
        "    32: 'batata frita',\n",
        "    33: 'alho',\n",
        "    34: 'gengibre',\n",
        "    35: 'cebolinha',\n",
        "    36: 'presunto',\n",
        "    37: 'batata hash brown',\n",
        "    38: 'cachorro-quente',\n",
        "    39: 'gelo',\n",
        "    40: 'ketchup',\n",
        "    41: 'kimchi',\n",
        "    42: 'limão',\n",
        "    43: 'suco de limão',\n",
        "    44: 'mandarim',\n",
        "    45: 'marshmallow',\n",
        "    46: 'maionese',\n",
        "    47: 'leite',\n",
        "    48: 'queijo muçarela',\n",
        "    49: 'cogumelo',\n",
        "    50: 'mostarda',\n",
        "    51: 'nachos',\n",
        "    52: 'macarrão',\n",
        "    53: 'nutella',\n",
        "    54: 'azeite',\n",
        "    55: 'cebola',\n",
        "    56: 'oreo',\n",
        "    57: 'queijo parmesão',\n",
        "    58: 'salsa',\n",
        "    59: 'macarrão',\n",
        "    60: 'manteiga de amendoim',\n",
        "    61: 'pera',\n",
        "    62: 'pimenta',\n",
        "    63: 'pimenta em pó',\n",
        "    64: 'picles',\n",
        "    65: 'rabano em conserva',\n",
        "    66: 'pimentão',\n",
        "    67: 'abacaxi',\n",
        "    68: 'porco',\n",
        "    69: 'batata',\n",
        "    70: 'ramen',\n",
        "    71: 'vinho tinto',\n",
        "    72: 'arroz',\n",
        "    73: 'sal',\n",
        "    74: 'linguiça',\n",
        "    75: 'alga marinha',\n",
        "    76: 'gergelim',\n",
        "    77: 'óleo de gergelim',\n",
        "    78: 'pasta de camarão',\n",
        "    79: 'molho de soja',\n",
        "    80: 'spam',\n",
        "    81: 'lula',\n",
        "    82: 'morango',\n",
        "    83: 'açúcar',\n",
        "    84: 'batata-doce',\n",
        "    85: 'tofu',\n",
        "    86: 'tomate',\n",
        "    87: 'wasabi',\n",
        "    88: 'melancia',\n",
        "    89: 'creme de leite'\n",
        "}\n",
        "\n",
        "print(class_map[17])\n"
      ]
    },
    {
      "cell_type": "code",
      "execution_count": null,
      "metadata": {
        "id": "Ylo9B_eOKjCz"
      },
      "outputs": [],
      "source": [
        "PBOX['class'] = PBOX['class'].apply(lambda x: class_map[int(x)])\n",
        "PBOX = PBOX.reset_index(drop=True)\n",
        "display(PBOX)\n",
        "display(PBOX['class'].value_counts())"
      ]
    },
    {
      "cell_type": "code",
      "execution_count": 24,
      "metadata": {
        "id": "LkikJohL8le5"
      },
      "outputs": [],
      "source": [
        "def draw_box2(n0):\n",
        "\n",
        "    ipath=ppaths[n0]\n",
        "    image=cv2.imread(ipath)\n",
        "    H,W=image.shape[0],image.shape[1]\n",
        "    file=ipath.split('/')[-1]\n",
        "\n",
        "    if PBOX[PBOX['file']==file] is not None:\n",
        "        box=PBOX[PBOX['file']==file]\n",
        "        box=box.reset_index(drop=True)\n",
        "        #display(box)\n",
        "\n",
        "        for i in range(len(box)):\n",
        "            label=box.loc[i,'class']\n",
        "            x=int(box.loc[i,'x'])\n",
        "            y=int(box.loc[i,'y'])\n",
        "            x2=int(box.loc[i,'x2'])\n",
        "            y2=int(box.loc[i,'y2'])\n",
        "            #print(label,x,y,x2,y2)\n",
        "            cv2.putText(image, f'{label}', (x, int(y-4)),\n",
        "                        cv2.FONT_HERSHEY_SIMPLEX, 1.0, (0,255,0),2)\n",
        "            cv2.rectangle(image,(x,y),(x2,y2),(0,255,0),2) #green\n",
        "\n",
        "    #plt.imshow(image)\n",
        "    #plt.show()\n",
        "\n",
        "    return image"
      ]
    },
    {
      "cell_type": "code",
      "execution_count": 25,
      "metadata": {
        "id": "UtNWV8Kg8lhf"
      },
      "outputs": [],
      "source": [
        "def create_animation(ims):\n",
        "    fig=plt.figure(figsize=(12,8))\n",
        "    im=plt.imshow(cv2.cvtColor(ims[0],cv2.COLOR_BGR2RGB))\n",
        "    text = plt.text(0.05, 0.05, f'Slide {0}', transform=fig.transFigure, fontsize=14, color='blue')\n",
        "    plt.axis('off')\n",
        "    plt.close()\n",
        "\n",
        "    def animate_func(i):\n",
        "        im.set_array(cv2.cvtColor(ims[i],cv2.COLOR_BGR2RGB))\n",
        "        text.set_text(f'Slide {20+i}')\n",
        "        return [im]\n",
        "\n",
        "    return animation.FuncAnimation(fig, animate_func, frames=len(ims), interval=1000)"
      ]
    },
    {
      "cell_type": "code",
      "execution_count": null,
      "metadata": {
        "id": "zrnzJfSL8ljw"
      },
      "outputs": [],
      "source": [
        "images2=[]\n",
        "for i in tqdm(range(len(ppaths))):\n",
        "    images2+=[draw_box2(i)]"
      ]
    },
    {
      "cell_type": "code",
      "execution_count": null,
      "metadata": {
        "id": "nxo3B6UCJ-qF"
      },
      "outputs": [],
      "source": [
        "create_animation(images2)"
      ]
    },
    {
      "cell_type": "code",
      "source": [
        "model = YOLO('/content/runs/detect/train/weights/best.pt')\n",
        "\n",
        "def run():\n",
        "\n",
        "    model.predict(\n",
        "        source=\"./35-art_15833949816299_553cc3_jpg.rf.410e480102bb96e5c1fc50cc94717b60.jpg\",\n",
        "        conf=0.25,\n",
        "        save=True,\n",
        "        show=True,\n",
        "        save_crop=True\n",
        "    )\n",
        "\n",
        "if __name__ == '__main__':\n",
        "    run()"
      ],
      "metadata": {
        "id": "IsC9XnlUPfhd"
      },
      "execution_count": null,
      "outputs": []
    },
    {
      "cell_type": "code",
      "source": [
        "from IPython.display import display, Javascript, Image\n",
        "from google.colab.output import eval_js\n",
        "from base64 import b64decode\n",
        "\n",
        "# Assuming you have a YOLO class with a 'predict' method that takes an image path\n",
        "class YOLO:\n",
        "    def __init__(self, model_path):\n",
        "        # Initialize your YOLO model here\n",
        "        # For example:\n",
        "        # self.model = load_your_yolo_model(model_path)\n",
        "        pass\n",
        "\n",
        "    def predict(self, image_path):\n",
        "        # Replace this with your actual prediction logic\n",
        "        # Use your trained YOLO model to predict objects in the image\n",
        "        # Return a list of results, each result should be a dictionary\n",
        "        # For example: [{'image_path': 'path/to/image.jpg', 'prediction': 'Object detected'}, ...]\n",
        "        # Make sure to use your actual YOLO model for prediction\n",
        "        return [{'image_path': image_path, 'prediction': 'Object detected'}]\n",
        "\n",
        "def take_photo_and_detect(model, filename='photo.jpg', quality=0.8):\n",
        "    # JavaScript code to capture a photo from the webcam\n",
        "    js = Javascript('''\n",
        "        async function takePhoto(quality) {\n",
        "          const div = document.createElement('div');\n",
        "          const capture = document.createElement('button');\n",
        "          capture.textContent = 'Capture';\n",
        "          div.appendChild(capture);\n",
        "\n",
        "          const video = document.createElement('video');\n",
        "          video.style.display = 'block';\n",
        "          const stream = await navigator.mediaDevices.getUserMedia({video: true});\n",
        "\n",
        "          document.body.appendChild(div);\n",
        "          div.appendChild(video);\n",
        "          video.srcObject = stream;\n",
        "          await video.play();\n",
        "\n",
        "          // Resize the output to fit the video element.\n",
        "          google.colab.output.setIframeHeight(document.documentElement.scrollHeight, true);\n",
        "\n",
        "          // Wait for Capture to be clicked.\n",
        "          await new Promise((resolve) => capture.onclick = resolve);\n",
        "\n",
        "          const canvas = document.createElement('canvas');\n",
        "          canvas.width = video.videoWidth;\n",
        "          canvas.height = video.videoHeight;\n",
        "          canvas.getContext('2d').drawImage(video, 0, 0);\n",
        "          stream.getVideoTracks()[0].stop();\n",
        "          div.remove();\n",
        "          return canvas.toDataURL('image/jpeg', quality);\n",
        "        }\n",
        "    ''')\n",
        "\n",
        "    # Display the JavaScript code for capturing a photo\n",
        "    display(js)\n",
        "\n",
        "    # Capture a photo and save it to a file\n",
        "    data = eval_js('takePhoto({})'.format(quality))\n",
        "    binary = b64decode(data.split(',')[1])\n",
        "    with open(filename, 'wb') as f:\n",
        "        f.write(binary)\n",
        "\n",
        "    # Use the YOLO model to predict objects in the captured photo\n",
        "    results = model.predict(filename)\n",
        "\n",
        "    # Display the results\n",
        "    for result in results:\n",
        "        display(Image(filename=result['image_path']))\n",
        "        print(result['prediction'])\n",
        "\n",
        "# Instantiate the YOLO model with the correct model path\n",
        "# Replace '/content/runs/detect/train/weights/best.pt' with the actual path to your trained YOLO model\n",
        "yolo_model = YOLO('/content/runs/detect/train/weights/best.pt')\n",
        "\n",
        "# Run the combined function\n",
        "if __name__ == '__main__':\n",
        "    take_photo_and_detect(yolo_model)\n"
      ],
      "metadata": {
        "id": "7pXkaVNlK8S8"
      },
      "execution_count": null,
      "outputs": []
    }
  ],
  "metadata": {
    "colab": {
      "machine_shape": "hm",
      "provenance": [],
      "authorship_tag": "ABX9TyOP43figQojHXIYRC3+uM77",
      "include_colab_link": true
    },
    "kernelspec": {
      "display_name": "Python 3",
      "name": "python3"
    },
    "language_info": {
      "name": "python"
    }
  },
  "nbformat": 4,
  "nbformat_minor": 0
}