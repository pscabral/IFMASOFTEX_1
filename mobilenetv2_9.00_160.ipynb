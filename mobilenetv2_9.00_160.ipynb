{
  "nbformat": 4,
  "nbformat_minor": 0,
  "metadata": {
    "colab": {
      "provenance": [],
      "machine_shape": "hm",
      "authorship_tag": "ABX9TyMdrfYg0+PDilGOg1sBuzzA",
      "include_colab_link": true
    },
    "kernelspec": {
      "name": "python3",
      "display_name": "Python 3"
    },
    "language_info": {
      "name": "python"
    }
  },
  "cells": [
    {
      "cell_type": "markdown",
      "metadata": {
        "id": "view-in-github",
        "colab_type": "text"
      },
      "source": [
        "<a href=\"https://colab.research.google.com/github/pscabral/IFMASOFTEX_1/blob/main/mobilenetv2_9.00_160.ipynb\" target=\"_parent\"><img src=\"https://colab.research.google.com/assets/colab-badge.svg\" alt=\"Open In Colab\"/></a>"
      ]
    },
    {
      "cell_type": "code",
      "execution_count": null,
      "metadata": {
        "id": "6LHKHtRZdlK5"
      },
      "outputs": [],
      "source": [
        "!pip install mega.py\n",
        "\n",
        "from mega import Mega\n",
        "\n",
        "# Crie uma instância da classe Mega\n",
        "mega = Mega()\n",
        "\n",
        "# Cole o link completo do Mega.nz (incluindo a chave)\n",
        "url = \"https://mega.nz/file/xutxkLoY#5ycY65KDsxtwEobjIycZoITipxk92yA3yQEgkImDYgM\"\n",
        "\n",
        "# Use o link completo para fazer o download\n",
        "mega.download_url(url)\n",
        "\n",
        "!unzip GroceryStoreDataset_.zip"
      ]
    },
    {
      "cell_type": "code",
      "source": [
        "import os\n",
        "import cv2\n",
        "from tqdm import tqdm\n",
        "import numpy as np\n",
        "\n",
        "def perform_augmentation(image):\n",
        "    # Exemplo: Rotação aleatória entre -10 e 10 graus\n",
        "    angle = np.random.uniform(low=-10, high=10)\n",
        "    rows, cols, _ = image.shape\n",
        "    rotation_matrix = cv2.getRotationMatrix2D((cols / 2, rows / 2), angle, 1)\n",
        "    augmented_image = cv2.warpAffine(image, rotation_matrix, (cols, rows))\n",
        "    return augmented_image\n",
        "\n",
        "def apply_data_augmentation(input_dir, augmentation_factor):\n",
        "    for subdir, _, files in os.walk(input_dir):\n",
        "        # Filtrar apenas arquivos de imagem\n",
        "        image_files = [f for f in files if f.lower().endswith(('.png', '.jpg', '.jpeg', '.bmp', '.gif'))]\n",
        "\n",
        "        print(f\"Encontrados {len(image_files)} arquivos de imagem em {subdir}\")\n",
        "\n",
        "        for image_file in tqdm(image_files, desc=f\"Aumentando dados em {subdir}\"):\n",
        "            image_path = os.path.join(subdir, image_file)\n",
        "\n",
        "            # Verificar se a imagem foi carregada corretamente\n",
        "            original_image = cv2.imread(image_path)\n",
        "            if original_image is None:\n",
        "                print(f\"Erro ao carregar a imagem: {image_path}\")\n",
        "                continue\n",
        "\n",
        "            # Corrigir a conversão do augmentation_factor para um valor inteiro\n",
        "            num_augmented_images = int(len(image_files) * augmentation_factor)\n",
        "\n",
        "            for i in range(num_augmented_images):\n",
        "                # Aplicar técnicas de aumento de dados (por exemplo, espelhamento, rotação, zoom)\n",
        "                augmented_image = perform_augmentation(original_image)\n",
        "\n",
        "                # Salvar a imagem aumentada no mesmo subdiretório\n",
        "                output_file = os.path.join(subdir, f\"{image_file.split('.')[0]}_{i}.jpg\")\n",
        "                cv2.imwrite(output_file, augmented_image)\n",
        "\n",
        "# Diretórios de entrada para cada conjunto de dados\n",
        "datasets = [\n",
        "    \"/content/GroceryStoreDataset_/test\",\n",
        "    \"/content/GroceryStoreDataset_/train\",\n",
        "    \"/content/GroceryStoreDataset_/val\",\n",
        "]\n",
        "\n",
        "# Aplicar aumento de dados para cada conjunto de dados\n",
        "for input_dir in datasets:\n",
        "    apply_data_augmentation(input_dir, 0.3)  # Ajuste o fator de aumento conforme necessário\n"
      ],
      "metadata": {
        "id": "NT0enG4rjKPe"
      },
      "execution_count": null,
      "outputs": []
    },
    {
      "cell_type": "code",
      "source": [
        "import numpy as np\n",
        "import pandas as pd\n",
        "import random\n",
        "from tensorflow.keras.preprocessing import image\n",
        "from tensorflow.keras.utils import to_categorical\n",
        "from keras.applications.mobilenet import MobileNet, preprocess_input\n",
        "from tensorflow.keras.applications.mobilenet_v2 import MobileNetV2\n",
        "from tensorflow.keras.models import Sequential\n",
        "from tensorflow.keras.layers import Dropout, Dense,BatchNormalization, Flatten, MaxPool2D\n",
        "from keras.callbacks import ModelCheckpoint, EarlyStopping, ReduceLROnPlateau, Callback\n",
        "from keras.layers import Conv2D, Reshape\n",
        "from tensorflow.keras.utils import Sequence\n",
        "from keras.backend import epsilon\n",
        "import tensorflow as tf\n",
        "from sklearn.model_selection import train_test_split\n",
        "import matplotlib.pyplot as plt\n",
        "import seaborn as sns\n",
        "from tensorflow.keras.layers import GlobalAveragePooling2D\n",
        "from tensorflow.keras.optimizers import Adam\n",
        "import cv2\n",
        "\n",
        "from sklearn.metrics import classification_report, confusion_matrix\n",
        "\n",
        "import os\n",
        "\n",
        "import warnings\n",
        "warnings.filterwarnings('ignore')"
      ],
      "metadata": {
        "id": "KI0lYsQcnXbb"
      },
      "execution_count": 19,
      "outputs": []
    },
    {
      "cell_type": "code",
      "source": [
        "train_dir = \"../content/GroceryStoreDataset_/train\"\n",
        "train_class=os.listdir(train_dir)\n",
        "print(train_class)\n",
        "\n",
        "val_dir = \"../content/GroceryStoreDataset_/val\"\n",
        "val_class=os.listdir(val_dir)\n",
        "print(val_class)\n",
        "\n",
        "test_dir = \"../content/GroceryStoreDataset_/test\"\n",
        "test_class=os.listdir(test_dir)\n",
        "print(test_class)"
      ],
      "metadata": {
        "colab": {
          "base_uri": "https://localhost:8080/"
        },
        "id": "FFELbboOnZOT",
        "outputId": "9ec661e5-c9c5-41d8-815c-6cf08dc77551"
      },
      "execution_count": 20,
      "outputs": [
        {
          "output_type": "stream",
          "name": "stdout",
          "text": [
            "['Zucchini', 'God-Morgon-Red-Grapefruit-Juice', 'Sweet-Potato', 'Floury-Potato', 'Oatly-Natural-Oatghurt', 'Garant-Ecological-Standard-Milk', 'Papaya', 'Cantaloupe-Melon', 'Apple-Granny-Smith', 'Cucumber', 'Plum', 'Alpro-Fresh-Soy-Milk', 'Pear-Conference', 'Satsumas', 'Nectarine', 'Peach', 'Orange-Bell-Pepper', 'Apple-Golden-Delicious', 'God-Morgon-Apple-Juice', 'Mango', 'Red-Beet', 'Bravo-Apple-Juice', 'Leek', 'Yellow-Bell-Pepper', 'Tropicana-Apple-Juice', 'Arla-Ecological-Sour-Cream', 'Arla-Natural-Yoghurt', 'Arla-Medium-Fat-Milk', 'Banana', 'Solid-Potato', 'Asparagus', 'Tropicana-Golden-Grapefruit-Juice', 'God-Morgon-Orange-Juice', 'Yellow-Onion', 'Alpro-Blueberry-Soyghurt', 'Avocado', 'Pear-Anjou', 'Apple-Royal-Gala', 'Watermelon-Melon', 'God-Morgon-Orange-Red-Grapefruit-Juice', 'Beef-Tomato', 'Orange', 'Aubergine', 'Arla-Sour-Cream', 'Brown-Cap-Mushroom', 'Tropicana-Juice-Smooth-Juice', 'Arla-Mild-Vanilla-Yoghurt', 'Yoggi-Vanilla-Yoghurt', 'Valio-Vanilla-Yoghurt', 'Yoggi-Strawberry-Yoghurt', 'Lime', 'Galia-Melon', 'Lemon', 'Cabbage', 'Garlic', 'Apple-Pink-Lady', 'Arla-Sour-Milk', 'Apple-Red-Delicious', 'Honeydew-Melon', 'Arla-Natural-Mild-Low-Fat-Yoghurt', 'Green-Bell-Pepper', 'Red-Grapefruit', 'Ginger', 'Arla-Ecological-Medium-Fat-Milk', 'Arla-Standard-Milk', 'Pineapple', 'Pear-Kaiser', 'Arla-Lactose-Medium-Fat-Milk', 'Alpro-Vanilla-Soyghurt', 'Oatly-Oat-Milk', 'Tropicana-Mandarin-Morning-Juice', 'Red-Bell-Pepper', 'Carrots', 'Kiwi', 'Alpro-Shelf-Soy-Milk', 'Pomegranate', 'Garant-Ecological-Medium-Fat-Milk', 'Bravo-Orange-Juice', 'Vine-Tomato', 'Passion-Fruit', 'Regular-Tomato']\n",
            "['Zucchini', 'God-Morgon-Red-Grapefruit-Juice', 'Sweet-Potato', 'Floury-Potato', 'Oatly-Natural-Oatghurt', 'Garant-Ecological-Standard-Milk', 'Cantaloupe-Melon', 'Apple-Granny-Smith', 'Cucumber', 'Pear-Conference', 'Satsumas', 'Peach', 'Orange-Bell-Pepper', 'Apple-Golden-Delicious', 'God-Morgon-Apple-Juice', 'Mango', 'Red-Beet', 'Bravo-Apple-Juice', 'Leek', 'Yellow-Bell-Pepper', 'Arla-Medium-Fat-Milk', 'Banana', 'Asparagus', 'God-Morgon-Orange-Juice', 'Yellow-Onion', 'Alpro-Blueberry-Soyghurt', 'Avocado', 'Apple-Royal-Gala', 'Watermelon-Melon', 'God-Morgon-Orange-Red-Grapefruit-Juice', 'Beef-Tomato', 'Orange', 'Aubergine', 'Arla-Sour-Cream', 'Brown-Cap-Mushroom', 'Arla-Mild-Vanilla-Yoghurt', 'Yoggi-Vanilla-Yoghurt', 'Valio-Vanilla-Yoghurt', 'Yoggi-Strawberry-Yoghurt', 'Lime', 'Galia-Melon', 'Lemon', 'Cabbage', 'Apple-Pink-Lady', 'Honeydew-Melon', 'Red-Grapefruit', 'Ginger', 'Arla-Ecological-Medium-Fat-Milk', 'Arla-Standard-Milk', 'Pineapple', 'Alpro-Vanilla-Soyghurt', 'Oatly-Oat-Milk', 'Red-Bell-Pepper', 'Carrots', 'Kiwi', 'Pomegranate', 'Garant-Ecological-Medium-Fat-Milk', 'Bravo-Orange-Juice', 'Vine-Tomato', 'Passion-Fruit']\n",
            "['Zucchini', 'God-Morgon-Red-Grapefruit-Juice', 'Sweet-Potato', 'Floury-Potato', 'Oatly-Natural-Oatghurt', 'Garant-Ecological-Standard-Milk', 'Papaya', 'Cantaloupe-Melon', 'Apple-Granny-Smith', 'Cucumber', 'Plum', 'Alpro-Fresh-Soy-Milk', 'Pear-Conference', 'Satsumas', 'Nectarine', 'Peach', 'Orange-Bell-Pepper', 'Apple-Golden-Delicious', 'God-Morgon-Apple-Juice', 'Mango', 'Red-Beet', 'Bravo-Apple-Juice', 'Leek', 'Yellow-Bell-Pepper', 'Tropicana-Apple-Juice', 'Arla-Ecological-Sour-Cream', 'Arla-Natural-Yoghurt', 'Arla-Medium-Fat-Milk', 'Banana', 'Solid-Potato', 'Asparagus', 'Tropicana-Golden-Grapefruit-Juice', 'God-Morgon-Orange-Juice', 'Yellow-Onion', 'Alpro-Blueberry-Soyghurt', 'Avocado', 'Pear-Anjou', 'Apple-Royal-Gala', 'Watermelon-Melon', 'God-Morgon-Orange-Red-Grapefruit-Juice', 'Beef-Tomato', 'Orange', 'Aubergine', 'Arla-Sour-Cream', 'Brown-Cap-Mushroom', 'Tropicana-Juice-Smooth-Juice', 'Arla-Mild-Vanilla-Yoghurt', 'Yoggi-Vanilla-Yoghurt', 'Valio-Vanilla-Yoghurt', 'Yoggi-Strawberry-Yoghurt', 'Lime', 'Galia-Melon', 'Lemon', 'Cabbage', 'Garlic', 'Apple-Pink-Lady', 'Arla-Sour-Milk', 'Apple-Red-Delicious', 'Honeydew-Melon', 'Arla-Natural-Mild-Low-Fat-Yoghurt', 'Green-Bell-Pepper', 'Red-Grapefruit', 'Ginger', 'Arla-Ecological-Medium-Fat-Milk', 'Arla-Standard-Milk', 'Pineapple', 'Pear-Kaiser', 'Arla-Lactose-Medium-Fat-Milk', 'Alpro-Vanilla-Soyghurt', 'Oatly-Oat-Milk', 'Tropicana-Mandarin-Morning-Juice', 'Red-Bell-Pepper', 'Carrots', 'Kiwi', 'Alpro-Shelf-Soy-Milk', 'Pomegranate', 'Garant-Ecological-Medium-Fat-Milk', 'Bravo-Orange-Juice', 'Vine-Tomato', 'Passion-Fruit', 'Regular-Tomato']\n"
          ]
        }
      ]
    },
    {
      "cell_type": "code",
      "source": [
        "x=[] # array value of the images\n",
        "y=[] # the labels of the images\n",
        "\n",
        "for folder in os.listdir(train_dir):\n",
        "    image_list=os.listdir(train_dir+\"/\"+folder)\n",
        "    for img_name in image_list:\n",
        "        # Loading images\n",
        "        img=image.load_img(train_dir+\"/\"+folder+\"/\"+img_name,target_size=(224,224))\n",
        "        img=image.img_to_array(img)\n",
        "\n",
        "        # Transfer Learning: Preprocess of MobileNetV2 model to our images before passing it to MobileNetV2\n",
        "        img=preprocess_input(img)\n",
        "\n",
        "        x.append(img) # appending image array\n",
        "        y.append(train_class.index(folder)) # appending class index to the array\n",
        "\n",
        "print(\"Preparing Training Dataset Completed.\")"
      ],
      "metadata": {
        "id": "Gfc0bCuKnsJo"
      },
      "execution_count": null,
      "outputs": []
    },
    {
      "cell_type": "code",
      "source": [
        "val_images=[]\n",
        "val_images_Original=[]\n",
        "val_image_label=[]\n",
        "\n",
        "for folder in os.listdir(val_dir):\n",
        "    image_list=os.listdir(val_dir+\"/\"+folder)\n",
        "    for img_name in image_list:\n",
        "        # Loading images\n",
        "        img=image.load_img(val_dir+\"/\"+folder+\"/\"+img_name,target_size=(224,224))\n",
        "\n",
        "        # Converting to arrarys\n",
        "        img=image.img_to_array(img)\n",
        "\n",
        "        # Saving original images, will be used just for display at the end\n",
        "        val_images_Original.append(img.copy())\n",
        "        img=preprocess_input(img)\n",
        "\n",
        "        # Appending arrays\n",
        "        val_images.append(img)\n",
        "        val_image_label.append(val_class.index(folder))\n",
        "\n",
        "print(\"Preparing Validation Dataset Completed.\")"
      ],
      "metadata": {
        "id": "KDJxYCHwnsQI"
      },
      "execution_count": null,
      "outputs": []
    },
    {
      "cell_type": "code",
      "source": [
        "test_images=[]\n",
        "test_images_Original=[]\n",
        "test_image_label=[]\n",
        "\n",
        "for folder in os.listdir(test_dir):\n",
        "    image_list=os.listdir(test_dir+\"/\"+folder)\n",
        "    for img_name in image_list:\n",
        "        # Loading images\n",
        "        img=image.load_img(test_dir+\"/\"+folder+\"/\"+img_name,target_size=(224,224))\n",
        "\n",
        "        # Converting to arrarys\n",
        "        img=image.img_to_array(img)\n",
        "\n",
        "        # Saving original images, will be used just for display at the end\n",
        "        test_images_Original.append(img.copy())\n",
        "        img=preprocess_input(img)\n",
        "\n",
        "        # Appending arrays\n",
        "        test_images.append(img)\n",
        "        test_image_label.append(test_class.index(folder))\n",
        "\n",
        "print(\"Preparing Test Dataset Completed.\")"
      ],
      "metadata": {
        "id": "mNvdIXGsnsWb"
      },
      "execution_count": null,
      "outputs": []
    }
  ]
}