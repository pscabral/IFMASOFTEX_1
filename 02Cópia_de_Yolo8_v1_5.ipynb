{
  "cells": [
    {
      "cell_type": "markdown",
      "metadata": {
        "id": "view-in-github",
        "colab_type": "text"
      },
      "source": [
        "<a href=\"https://colab.research.google.com/github/pscabral/IFMASOFTEX_1/blob/main/02C%C3%B3pia_de_Yolo8_v1_5.ipynb\" target=\"_parent\"><img src=\"https://colab.research.google.com/assets/colab-badge.svg\" alt=\"Open In Colab\"/></a>"
      ]
    },
    {
      "cell_type": "code",
      "execution_count": null,
      "metadata": {
        "id": "rh7pTKaLRUSy"
      },
      "outputs": [],
      "source": [
        "!pip install mega.py\n",
        "\n",
        "from mega import Mega\n",
        "\n",
        "# Crie uma instância da classe Mega\n",
        "mega = Mega()\n",
        "\n",
        "# Cole o link completo do Mega.nz (incluindo a chave)\n",
        "url = \"https://mega.nz/file/tndjHT4I#H0JmcKeZ-Kzs8xEsyf6FwrIsCXNydTXEEeCx3_ZAK98\"\n",
        "\n",
        "# Use o link completo para fazer o download\n",
        "mega.download_url(url)\n",
        "\n",
        "!unzip Eggs.v6i.yolov8.zip"
      ]
    },
    {
      "cell_type": "code",
      "execution_count": null,
      "metadata": {
        "id": "qSyT5p8qRgVJ"
      },
      "outputs": [],
      "source": [
        "!pip install ultralytics"
      ]
    },
    {
      "cell_type": "code",
      "source": [
        "!pip install albumentations"
      ],
      "metadata": {
        "id": "QML9M3xLjwAU"
      },
      "execution_count": null,
      "outputs": []
    },
    {
      "cell_type": "code",
      "execution_count": 4,
      "metadata": {
        "id": "SrOSUGwSRhV6"
      },
      "outputs": [],
      "source": [
        "import os\n",
        "import random\n",
        "import shutil\n",
        "from pathlib import Path\n",
        "\n",
        "import pandas as pd\n",
        "from PIL import Image\n",
        "import cv2\n",
        "from ultralytics import YOLO\n",
        "from IPython.display import Video\n",
        "import numpy as np\n",
        "import matplotlib.pyplot as plt\n",
        "import seaborn as sns\n",
        "from tqdm.notebook import trange, tqdm\n",
        "import warnings\n",
        "import glob\n",
        "import albumentations as A\n",
        "\n",
        "from shutil import copyfile\n",
        "from matplotlib import animation, rc\n",
        "rc('animation', html='jshtml')\n"
      ]
    },
    {
      "cell_type": "code",
      "source": [
        "img_folder_path = './content/Eggs.v6i/train/images/'\n",
        "annot_folder_path = './content/Eggs.v6i/train/labels/'\n",
        "\n",
        "# main function to augment images\n",
        "def transformer(img_folder_path, annot_folder_path):\n",
        "\n",
        "    img_paths = Path(img_folder_path).glob('*.jpg')\n",
        "\n",
        "    for img_path in img_paths:\n",
        "\n",
        "        img_name = str(img_path).split('/')[-1].split('.')[:-1]\n",
        "        img_name = '.'.join(img_name)\n",
        "        label_name = img_name + '.txt'\n",
        "\n",
        "        label_path = os.path.join(annot_folder_path, label_name)\n",
        "\n",
        "        result = horizontalFlip(str(img_path), label_path, img_name)\n",
        "\n",
        "    return\n",
        "\n",
        "\n",
        "def horizontalFlip(img_path, label_path, save_name):\n",
        "\n",
        "    # setup transformer\n",
        "    transformHorizontalFlip = A.Compose([A.HorizontalFlip(always_apply=True)],\n",
        "                      bbox_params=A.BboxParams(format='yolo'))\n",
        "\n",
        "    # annotation file to list\n",
        "    with open(label_path) as f:\n",
        "        lines = f.readlines()\n",
        "\n",
        "    bbox = []\n",
        "    for line in lines:\n",
        "        l = line.split(' ')\n",
        "        bbox.append([float(l[1]), float(l[2]), float(l[3]), float(l[4]), str(l[0])])\n",
        "\n",
        "    img = cv2.imread(img_path)\n",
        "\n",
        "    try:\n",
        "        trns = transformHorizontalFlip(image = img, bboxes=bbox)\n",
        "\n",
        "        # transformation results\n",
        "        img_transformed = trns['image']\n",
        "        boxes = trns['bboxes']\n",
        "\n",
        "        # save image and annotation file in YOLO format\n",
        "        cv2.imwrite('./content/Eggs.v6i/train/images/'+ save_name + '_hf.jpg', img_transformed)\n",
        "\n",
        "        with open('/content/Eggs.v6i/train/labels/'+ save_name + '_hf.txt' , 'w') as f:\n",
        "            for box in boxes:\n",
        "                f.write(str(box[-1]))\n",
        "                f.write(' '+str(box[0]))\n",
        "                f.write(' '+str(box[1]))\n",
        "                f.write(' '+str(box[2]))\n",
        "                f.write(' '+str(box[3]))\n",
        "                f.write('\\n')\n",
        "\n",
        "        return\n",
        "\n",
        "    except:\n",
        "        print('Failed:', save_name)\n",
        "        return\n",
        "\n",
        "\n",
        "transformer(img_folder_path, annot_folder_path)"
      ],
      "metadata": {
        "id": "7nmMtgUfr7J7"
      },
      "execution_count": 6,
      "outputs": []
    },
    {
      "cell_type": "code",
      "execution_count": null,
      "metadata": {
        "id": "rJWxwKa_RhYm"
      },
      "outputs": [],
      "source": [
        "Image_dir = '/content/Eggs.v6i/train/images'\n",
        "\n",
        "num_samples = 9\n",
        "image_files = os.listdir(Image_dir)\n",
        "\n",
        "# Randomly select num_samples images\n",
        "rand_images = random.sample(image_files, num_samples)\n",
        "\n",
        "fig, axes = plt.subplots(3, 3, figsize=(11, 11))\n",
        "\n",
        "for i in range(num_samples):\n",
        "    image = rand_images[i]\n",
        "    ax = axes[i // 3, i % 3]\n",
        "    ax.imshow(plt.imread(os.path.join(Image_dir, image)))\n",
        "    ax.set_title(f'Image {i+1}')\n",
        "    ax.axis('off')\n",
        "\n",
        "plt.tight_layout()\n",
        "plt.show()"
      ]
    },
    {
      "cell_type": "code",
      "execution_count": 8,
      "metadata": {
        "colab": {
          "base_uri": "https://localhost:8080/"
        },
        "id": "vBpJOCHERhbN",
        "outputId": "7d92d195-fdde-4fe1-c605-936601557def"
      },
      "outputs": [
        {
          "output_type": "stream",
          "name": "stdout",
          "text": [
            "The image has dimensions 640x640 and 3 channels.\n"
          ]
        }
      ],
      "source": [
        "image = cv2.imread(\"/content/Eggs.v6i/valid/images/0056_jpg.rf.459245cb18fa0daa6394f367e5e70940.jpg\")\n",
        "h, w, c = image.shape\n",
        "print(f\"The image has dimensions {w}x{h} and {c} channels.\")"
      ]
    },
    {
      "cell_type": "code",
      "execution_count": null,
      "metadata": {
        "id": "RAoJ1zX0Rhd_"
      },
      "outputs": [],
      "source": [
        "model = YOLO(\"yolov8n.pt\")\n",
        "\n",
        "# Use the model to detect object\n",
        "image = \"/content/Eggs.v6i/valid/images/0056_jpg.rf.459245cb18fa0daa6394f367e5e70940.jpg\"\n",
        "result_predict = model.predict(source = image, imgsz=(640))\n",
        "\n",
        "# show results\n",
        "plot = result_predict[0].plot()\n",
        "plot = cv2.cvtColor(plot, cv2.COLOR_BGR2RGB)\n",
        "display(Image.fromarray(plot))"
      ]
    },
    {
      "cell_type": "code",
      "execution_count": null,
      "metadata": {
        "id": "CRkc1V26SNjD"
      },
      "outputs": [],
      "source": [
        "Final_model = YOLO('yolov8n.pt')\n",
        "Result_Final_model = Final_model.train(data=\"/content/Eggs.v6i/data.yaml\", name = 'data', epochs=20, patience=20, batch = 16, cache = True, imgsz=640, iou = 0.5, augment=True, degrees=25.0, fliplr=0.0, lr0=0.0001, optimizer='Adam')\n"
      ]
    },
    {
      "cell_type": "code",
      "execution_count": 46,
      "metadata": {
        "colab": {
          "base_uri": "https://localhost:8080/"
        },
        "id": "WwK7aj8x8lL1",
        "outputId": "e2fe41d3-aea6-4919-e7ff-9a924cc3dea9"
      },
      "outputs": [
        {
          "output_type": "stream",
          "name": "stdout",
          "text": [
            "result of training\n",
            "/content/runs/detect/train/F1_curve.png\n"
          ]
        }
      ],
      "source": [
        "print('result of training')\n",
        "tpaths2=[]\n",
        "for dirname, _, filenames in os.walk('/content/runs/detect/train'):\n",
        "    for filename in filenames:\n",
        "        if filename[-4:]=='.png' or filename[-4:]=='.jpg':\n",
        "            tpaths2+=[(os.path.join(dirname, filename))]\n",
        "tpaths2=sorted(tpaths2)\n",
        "print(tpaths2[0])"
      ]
    },
    {
      "cell_type": "code",
      "execution_count": null,
      "metadata": {
        "id": "J-SF8RZ38lOo"
      },
      "outputs": [],
      "source": [
        "for path in tpaths2:\n",
        "    image = Image.open(path)\n",
        "    image=np.array(image)\n",
        "    plt.figure(figsize=(25,10))\n",
        "    plt.imshow(image)\n",
        "    plt.show()"
      ]
    },
    {
      "cell_type": "code",
      "execution_count": 13,
      "metadata": {
        "colab": {
          "base_uri": "https://localhost:8080/"
        },
        "id": "2dv8g3Te8lRs",
        "outputId": "143f8a57-01c4-4e53-8957-da0a38d2916e"
      },
      "outputs": [
        {
          "output_type": "stream",
          "name": "stdout",
          "text": [
            "Predict\n"
          ]
        }
      ],
      "source": [
        "print('Predict')\n",
        "best_path0='/content/runs/detect/train/weights/best.pt'\n",
        "source0='/content/syntheticfruit.v1i/valid/images'"
      ]
    },
    {
      "cell_type": "code",
      "execution_count": 14,
      "metadata": {
        "colab": {
          "base_uri": "https://localhost:8080/"
        },
        "id": "ZxYgVQHj8lUY",
        "outputId": "dc260dcb-a66e-48fa-d04e-bb59a806b6b0"
      },
      "outputs": [
        {
          "output_type": "stream",
          "name": "stdout",
          "text": [
            "/content/syntheticfruit.v1i/valid/images/0_jpg.rf.0e69ec43c53fe6e84409ab68377b3e1d.jpg\n"
          ]
        }
      ],
      "source": [
        "ppaths=[]\n",
        "for dirname, _, filenames in os.walk(source0):\n",
        "    for filename in filenames:\n",
        "        if filename[-4:]=='.jpg':\n",
        "            ppaths+=[(os.path.join(dirname, filename))]\n",
        "ppaths=sorted(ppaths)\n",
        "print(ppaths[0])"
      ]
    },
    {
      "cell_type": "code",
      "execution_count": 15,
      "metadata": {
        "colab": {
          "base_uri": "https://localhost:8080/"
        },
        "id": "-iydv0FB8lXA",
        "outputId": "fac05208-8375-4083-d141-e3ac7eb52365"
      },
      "outputs": [
        {
          "output_type": "stream",
          "name": "stdout",
          "text": [
            "yolo task=detect mode=predict\n"
          ]
        }
      ],
      "source": [
        "model2 = YOLO(best_path0)\n",
        "print('yolo task=detect mode=predict')"
      ]
    },
    {
      "cell_type": "code",
      "execution_count": null,
      "metadata": {
        "id": "tDvbyveq8lcV"
      },
      "outputs": [],
      "source": [
        "!yolo task=detect mode=predict model={best_path0} conf=0.4 source={source0}"
      ]
    },
    {
      "cell_type": "code",
      "execution_count": null,
      "metadata": {
        "id": "UH8xMLw-JZia"
      },
      "outputs": [],
      "source": [
        "print('Result of Prediction')\n",
        "results = model2.predict(source0,conf=0.4)\n",
        "print(len(results))"
      ]
    },
    {
      "cell_type": "code",
      "execution_count": null,
      "metadata": {
        "id": "WfealxI2Ki71"
      },
      "outputs": [],
      "source": [
        "PBOX=pd.DataFrame(columns=range(6))\n",
        "for i in range(len(results)):\n",
        "    arri=pd.DataFrame(results[i].boxes.data).astype(float)\n",
        "    path=ppaths[i]\n",
        "    file=path.split('/')[-1]\n",
        "    arri=arri.assign(file=file)\n",
        "    arri=arri.assign(i=i)\n",
        "    PBOX=pd.concat([PBOX,arri],axis=0)\n",
        "PBOX.columns=['x','y','x2','y2','confidence','class','file','i']\n",
        "display(PBOX)"
      ]
    },
    {
      "cell_type": "code",
      "execution_count": 39,
      "metadata": {
        "id": "qktSEqx1yFQg",
        "colab": {
          "base_uri": "https://localhost:8080/"
        },
        "outputId": "a8c08948-b884-4ea5-da6b-3ca649fd44db"
      },
      "outputs": [
        {
          "output_type": "stream",
          "name": "stdout",
          "text": [
            "Apple\n"
          ]
        }
      ],
      "source": [
        "class_map = {\n",
        "    0: 'Apple',\n",
        "    1: 'Apricot',\n",
        "    2: 'Avocado',\n",
        "    3: 'Banana',\n",
        "    4: 'Beetroot',\n",
        "    5: 'Blueberry',\n",
        "    6: 'Cactus',\n",
        "    7: 'Cantaloupe',\n",
        "    8: 'Carambula',\n",
        "    9: 'Cauliflower',\n",
        "    10: 'Cherry',\n",
        "    11: 'Chestnut',\n",
        "    12: 'Clementine',\n",
        "    13: 'Cocos',\n",
        "    14: 'Dates',\n",
        "    15: 'Eggplant',\n",
        "    16: 'Ginger',\n",
        "    17: 'Granadilla',\n",
        "    18: 'Grape',\n",
        "    19: 'Grapefruit',\n",
        "    20: 'Guava',\n",
        "    21: 'Hazelnut',\n",
        "    22: 'Huckleberry',\n",
        "    23: 'Kaki',\n",
        "    24: 'Kiwi',\n",
        "    25: 'Kohlrabi',\n",
        "    26: 'Kumquats',\n",
        "    27: 'Lemon',\n",
        "    28: 'Limes',\n",
        "    29: 'Lychee',\n",
        "    30: 'Mandarine',\n",
        "    31: 'Mango',\n",
        "    32: 'Mangostan',\n",
        "    33: 'Maracuja',\n",
        "    34: 'Melon',\n",
        "    35: 'Mulberry',\n",
        "    36: 'Nectarine',\n",
        "    37: 'Nut',\n",
        "    38: 'Onion',\n",
        "    39: 'Orange',\n",
        "    40: 'Papaya',\n",
        "    41: 'Passion',\n",
        "    42: 'Peach',\n",
        "    43: 'Pear',\n",
        "    44: 'Pepino',\n",
        "    45: 'Pepper',\n",
        "    46: 'Physalis',\n",
        "    47: 'Pineapple',\n",
        "    48: 'Pitahaya',\n",
        "    49: 'Plum',\n",
        "    50: 'Pomegranate',\n",
        "    51: 'Pomelo',\n",
        "    52: 'Potato',\n",
        "    53: 'Quince',\n",
        "    54: 'Rambutan',\n",
        "    55: 'Raspberry',\n",
        "    56: 'Redcurrant',\n",
        "    57: 'Salak',\n",
        "    58: 'Strawberry',\n",
        "    59: 'Tamarillo',\n",
        "    60: 'Tangelo',\n",
        "    61: 'Tomato',\n",
        "    62: 'Walnut'\n",
        "}\n",
        "\n",
        "print(class_map[0])\n"
      ]
    },
    {
      "cell_type": "code",
      "execution_count": null,
      "metadata": {
        "id": "Ylo9B_eOKjCz"
      },
      "outputs": [],
      "source": [
        "PBOX['class'] = PBOX['class'].apply(lambda x: class_map[int(x)])\n",
        "PBOX = PBOX.reset_index(drop=True)\n",
        "display(PBOX)\n",
        "display(PBOX['class'].value_counts())"
      ]
    },
    {
      "cell_type": "code",
      "execution_count": 41,
      "metadata": {
        "id": "LkikJohL8le5"
      },
      "outputs": [],
      "source": [
        "def draw_box2(n0):\n",
        "\n",
        "    ipath=ppaths[n0]\n",
        "    image=cv2.imread(ipath)\n",
        "    H,W=image.shape[0],image.shape[1]\n",
        "    file=ipath.split('/')[-1]\n",
        "\n",
        "    if PBOX[PBOX['file']==file] is not None:\n",
        "        box=PBOX[PBOX['file']==file]\n",
        "        box=box.reset_index(drop=True)\n",
        "        #display(box)\n",
        "\n",
        "        for i in range(len(box)):\n",
        "            label=box.loc[i,'class']\n",
        "            x=int(box.loc[i,'x'])\n",
        "            y=int(box.loc[i,'y'])\n",
        "            x2=int(box.loc[i,'x2'])\n",
        "            y2=int(box.loc[i,'y2'])\n",
        "            #print(label,x,y,x2,y2)\n",
        "            cv2.putText(image, f'{label}', (x, int(y-4)),\n",
        "                        cv2.FONT_HERSHEY_SIMPLEX, 1.0, (0,255,0),2)\n",
        "            cv2.rectangle(image,(x,y),(x2,y2),(0,255,0),2) #green\n",
        "\n",
        "    #plt.imshow(image)\n",
        "    #plt.show()\n",
        "\n",
        "    return image"
      ]
    },
    {
      "cell_type": "code",
      "execution_count": 42,
      "metadata": {
        "id": "UtNWV8Kg8lhf"
      },
      "outputs": [],
      "source": [
        "def create_animation(ims):\n",
        "    fig=plt.figure(figsize=(12,8))\n",
        "    im=plt.imshow(cv2.cvtColor(ims[0],cv2.COLOR_BGR2RGB))\n",
        "    text = plt.text(0.05, 0.05, f'Slide {0}', transform=fig.transFigure, fontsize=14, color='blue')\n",
        "    plt.axis('off')\n",
        "    plt.close()\n",
        "\n",
        "    def animate_func(i):\n",
        "        im.set_array(cv2.cvtColor(ims[i],cv2.COLOR_BGR2RGB))\n",
        "        text.set_text(f'Slide {20+i}')\n",
        "        return [im]\n",
        "\n",
        "    return animation.FuncAnimation(fig, animate_func, frames=len(ims), interval=1000)"
      ]
    },
    {
      "cell_type": "code",
      "execution_count": 43,
      "metadata": {
        "colab": {
          "base_uri": "https://localhost:8080/",
          "height": 49,
          "referenced_widgets": [
            "464f7f9617ca4e2d92159fb442aace95",
            "cd662cd121194b6098af04fa41ce6f30",
            "e3f1fd1ce9ca4ba0bc83cb8db19028ec",
            "2b99d9bf3cbe424abd728b5cf36a2be1",
            "3aebb8d712a649bab3d0f1563dcafd16",
            "edc9663fb519455da673002d4ea28a5e",
            "fde8fc09c0164e42804816699e4315d7",
            "299f2f00e12b43038a075da8f87bde17",
            "4c80d01abfa3400bafb29bf0c63f8581",
            "43e3686e91eb41618be4eb9cb4834d24",
            "8667a8a0f56441418e1d550fa61c6ed8"
          ]
        },
        "id": "zrnzJfSL8ljw",
        "outputId": "9f9acc52-dbe8-46a4-e7b6-ec34027e3524"
      },
      "outputs": [
        {
          "output_type": "display_data",
          "data": {
            "text/plain": [
              "  0%|          | 0/1200 [00:00<?, ?it/s]"
            ],
            "application/vnd.jupyter.widget-view+json": {
              "version_major": 2,
              "version_minor": 0,
              "model_id": "464f7f9617ca4e2d92159fb442aace95"
            }
          },
          "metadata": {}
        }
      ],
      "source": [
        "images2=[]\n",
        "for i in tqdm(range(len(ppaths))):\n",
        "    images2+=[draw_box2(i)]"
      ]
    },
    {
      "cell_type": "code",
      "execution_count": null,
      "metadata": {
        "id": "nxo3B6UCJ-qF"
      },
      "outputs": [],
      "source": [
        "create_animation(images2)"
      ]
    },
    {
      "cell_type": "code",
      "source": [
        "from ultralytics import YOLO\n",
        "import cv2\n",
        "\n",
        "model = YOLO('/content/runs/detect/train/weights/best.pt')\n",
        "\n",
        "def run():\n",
        "\n",
        "    model.predict(\n",
        "        source=\"./pepino01.jpg\",\n",
        "        conf=0.25,\n",
        "        save=True,\n",
        "        show=True,\n",
        "        save_crop=True\n",
        "    )\n",
        "\n",
        "if __name__ == '__main__':\n",
        "    run()"
      ],
      "metadata": {
        "id": "cr0FrQkeGR8G"
      },
      "execution_count": null,
      "outputs": []
    }
  ],
  "metadata": {
    "colab": {
      "machine_shape": "hm",
      "provenance": [],
      "authorship_tag": "ABX9TyOSiIuP37uoi9y8w9HnnbtA",
      "include_colab_link": true
    },
    "kernelspec": {
      "display_name": "Python 3",
      "name": "python3"
    },
    "language_info": {
      "name": "python"
    },
    "widgets": {
      "application/vnd.jupyter.widget-state+json": {
        "464f7f9617ca4e2d92159fb442aace95": {
          "model_module": "@jupyter-widgets/controls",
          "model_name": "HBoxModel",
          "model_module_version": "1.5.0",
          "state": {
            "_dom_classes": [],
            "_model_module": "@jupyter-widgets/controls",
            "_model_module_version": "1.5.0",
            "_model_name": "HBoxModel",
            "_view_count": null,
            "_view_module": "@jupyter-widgets/controls",
            "_view_module_version": "1.5.0",
            "_view_name": "HBoxView",
            "box_style": "",
            "children": [
              "IPY_MODEL_cd662cd121194b6098af04fa41ce6f30",
              "IPY_MODEL_e3f1fd1ce9ca4ba0bc83cb8db19028ec",
              "IPY_MODEL_2b99d9bf3cbe424abd728b5cf36a2be1"
            ],
            "layout": "IPY_MODEL_3aebb8d712a649bab3d0f1563dcafd16"
          }
        },
        "cd662cd121194b6098af04fa41ce6f30": {
          "model_module": "@jupyter-widgets/controls",
          "model_name": "HTMLModel",
          "model_module_version": "1.5.0",
          "state": {
            "_dom_classes": [],
            "_model_module": "@jupyter-widgets/controls",
            "_model_module_version": "1.5.0",
            "_model_name": "HTMLModel",
            "_view_count": null,
            "_view_module": "@jupyter-widgets/controls",
            "_view_module_version": "1.5.0",
            "_view_name": "HTMLView",
            "description": "",
            "description_tooltip": null,
            "layout": "IPY_MODEL_edc9663fb519455da673002d4ea28a5e",
            "placeholder": "​",
            "style": "IPY_MODEL_fde8fc09c0164e42804816699e4315d7",
            "value": "100%"
          }
        },
        "e3f1fd1ce9ca4ba0bc83cb8db19028ec": {
          "model_module": "@jupyter-widgets/controls",
          "model_name": "FloatProgressModel",
          "model_module_version": "1.5.0",
          "state": {
            "_dom_classes": [],
            "_model_module": "@jupyter-widgets/controls",
            "_model_module_version": "1.5.0",
            "_model_name": "FloatProgressModel",
            "_view_count": null,
            "_view_module": "@jupyter-widgets/controls",
            "_view_module_version": "1.5.0",
            "_view_name": "ProgressView",
            "bar_style": "success",
            "description": "",
            "description_tooltip": null,
            "layout": "IPY_MODEL_299f2f00e12b43038a075da8f87bde17",
            "max": 1200,
            "min": 0,
            "orientation": "horizontal",
            "style": "IPY_MODEL_4c80d01abfa3400bafb29bf0c63f8581",
            "value": 1200
          }
        },
        "2b99d9bf3cbe424abd728b5cf36a2be1": {
          "model_module": "@jupyter-widgets/controls",
          "model_name": "HTMLModel",
          "model_module_version": "1.5.0",
          "state": {
            "_dom_classes": [],
            "_model_module": "@jupyter-widgets/controls",
            "_model_module_version": "1.5.0",
            "_model_name": "HTMLModel",
            "_view_count": null,
            "_view_module": "@jupyter-widgets/controls",
            "_view_module_version": "1.5.0",
            "_view_name": "HTMLView",
            "description": "",
            "description_tooltip": null,
            "layout": "IPY_MODEL_43e3686e91eb41618be4eb9cb4834d24",
            "placeholder": "​",
            "style": "IPY_MODEL_8667a8a0f56441418e1d550fa61c6ed8",
            "value": " 1200/1200 [00:05&lt;00:00, 218.23it/s]"
          }
        },
        "3aebb8d712a649bab3d0f1563dcafd16": {
          "model_module": "@jupyter-widgets/base",
          "model_name": "LayoutModel",
          "model_module_version": "1.2.0",
          "state": {
            "_model_module": "@jupyter-widgets/base",
            "_model_module_version": "1.2.0",
            "_model_name": "LayoutModel",
            "_view_count": null,
            "_view_module": "@jupyter-widgets/base",
            "_view_module_version": "1.2.0",
            "_view_name": "LayoutView",
            "align_content": null,
            "align_items": null,
            "align_self": null,
            "border": null,
            "bottom": null,
            "display": null,
            "flex": null,
            "flex_flow": null,
            "grid_area": null,
            "grid_auto_columns": null,
            "grid_auto_flow": null,
            "grid_auto_rows": null,
            "grid_column": null,
            "grid_gap": null,
            "grid_row": null,
            "grid_template_areas": null,
            "grid_template_columns": null,
            "grid_template_rows": null,
            "height": null,
            "justify_content": null,
            "justify_items": null,
            "left": null,
            "margin": null,
            "max_height": null,
            "max_width": null,
            "min_height": null,
            "min_width": null,
            "object_fit": null,
            "object_position": null,
            "order": null,
            "overflow": null,
            "overflow_x": null,
            "overflow_y": null,
            "padding": null,
            "right": null,
            "top": null,
            "visibility": null,
            "width": null
          }
        },
        "edc9663fb519455da673002d4ea28a5e": {
          "model_module": "@jupyter-widgets/base",
          "model_name": "LayoutModel",
          "model_module_version": "1.2.0",
          "state": {
            "_model_module": "@jupyter-widgets/base",
            "_model_module_version": "1.2.0",
            "_model_name": "LayoutModel",
            "_view_count": null,
            "_view_module": "@jupyter-widgets/base",
            "_view_module_version": "1.2.0",
            "_view_name": "LayoutView",
            "align_content": null,
            "align_items": null,
            "align_self": null,
            "border": null,
            "bottom": null,
            "display": null,
            "flex": null,
            "flex_flow": null,
            "grid_area": null,
            "grid_auto_columns": null,
            "grid_auto_flow": null,
            "grid_auto_rows": null,
            "grid_column": null,
            "grid_gap": null,
            "grid_row": null,
            "grid_template_areas": null,
            "grid_template_columns": null,
            "grid_template_rows": null,
            "height": null,
            "justify_content": null,
            "justify_items": null,
            "left": null,
            "margin": null,
            "max_height": null,
            "max_width": null,
            "min_height": null,
            "min_width": null,
            "object_fit": null,
            "object_position": null,
            "order": null,
            "overflow": null,
            "overflow_x": null,
            "overflow_y": null,
            "padding": null,
            "right": null,
            "top": null,
            "visibility": null,
            "width": null
          }
        },
        "fde8fc09c0164e42804816699e4315d7": {
          "model_module": "@jupyter-widgets/controls",
          "model_name": "DescriptionStyleModel",
          "model_module_version": "1.5.0",
          "state": {
            "_model_module": "@jupyter-widgets/controls",
            "_model_module_version": "1.5.0",
            "_model_name": "DescriptionStyleModel",
            "_view_count": null,
            "_view_module": "@jupyter-widgets/base",
            "_view_module_version": "1.2.0",
            "_view_name": "StyleView",
            "description_width": ""
          }
        },
        "299f2f00e12b43038a075da8f87bde17": {
          "model_module": "@jupyter-widgets/base",
          "model_name": "LayoutModel",
          "model_module_version": "1.2.0",
          "state": {
            "_model_module": "@jupyter-widgets/base",
            "_model_module_version": "1.2.0",
            "_model_name": "LayoutModel",
            "_view_count": null,
            "_view_module": "@jupyter-widgets/base",
            "_view_module_version": "1.2.0",
            "_view_name": "LayoutView",
            "align_content": null,
            "align_items": null,
            "align_self": null,
            "border": null,
            "bottom": null,
            "display": null,
            "flex": null,
            "flex_flow": null,
            "grid_area": null,
            "grid_auto_columns": null,
            "grid_auto_flow": null,
            "grid_auto_rows": null,
            "grid_column": null,
            "grid_gap": null,
            "grid_row": null,
            "grid_template_areas": null,
            "grid_template_columns": null,
            "grid_template_rows": null,
            "height": null,
            "justify_content": null,
            "justify_items": null,
            "left": null,
            "margin": null,
            "max_height": null,
            "max_width": null,
            "min_height": null,
            "min_width": null,
            "object_fit": null,
            "object_position": null,
            "order": null,
            "overflow": null,
            "overflow_x": null,
            "overflow_y": null,
            "padding": null,
            "right": null,
            "top": null,
            "visibility": null,
            "width": null
          }
        },
        "4c80d01abfa3400bafb29bf0c63f8581": {
          "model_module": "@jupyter-widgets/controls",
          "model_name": "ProgressStyleModel",
          "model_module_version": "1.5.0",
          "state": {
            "_model_module": "@jupyter-widgets/controls",
            "_model_module_version": "1.5.0",
            "_model_name": "ProgressStyleModel",
            "_view_count": null,
            "_view_module": "@jupyter-widgets/base",
            "_view_module_version": "1.2.0",
            "_view_name": "StyleView",
            "bar_color": null,
            "description_width": ""
          }
        },
        "43e3686e91eb41618be4eb9cb4834d24": {
          "model_module": "@jupyter-widgets/base",
          "model_name": "LayoutModel",
          "model_module_version": "1.2.0",
          "state": {
            "_model_module": "@jupyter-widgets/base",
            "_model_module_version": "1.2.0",
            "_model_name": "LayoutModel",
            "_view_count": null,
            "_view_module": "@jupyter-widgets/base",
            "_view_module_version": "1.2.0",
            "_view_name": "LayoutView",
            "align_content": null,
            "align_items": null,
            "align_self": null,
            "border": null,
            "bottom": null,
            "display": null,
            "flex": null,
            "flex_flow": null,
            "grid_area": null,
            "grid_auto_columns": null,
            "grid_auto_flow": null,
            "grid_auto_rows": null,
            "grid_column": null,
            "grid_gap": null,
            "grid_row": null,
            "grid_template_areas": null,
            "grid_template_columns": null,
            "grid_template_rows": null,
            "height": null,
            "justify_content": null,
            "justify_items": null,
            "left": null,
            "margin": null,
            "max_height": null,
            "max_width": null,
            "min_height": null,
            "min_width": null,
            "object_fit": null,
            "object_position": null,
            "order": null,
            "overflow": null,
            "overflow_x": null,
            "overflow_y": null,
            "padding": null,
            "right": null,
            "top": null,
            "visibility": null,
            "width": null
          }
        },
        "8667a8a0f56441418e1d550fa61c6ed8": {
          "model_module": "@jupyter-widgets/controls",
          "model_name": "DescriptionStyleModel",
          "model_module_version": "1.5.0",
          "state": {
            "_model_module": "@jupyter-widgets/controls",
            "_model_module_version": "1.5.0",
            "_model_name": "DescriptionStyleModel",
            "_view_count": null,
            "_view_module": "@jupyter-widgets/base",
            "_view_module_version": "1.2.0",
            "_view_name": "StyleView",
            "description_width": ""
          }
        }
      }
    }
  },
  "nbformat": 4,
  "nbformat_minor": 0
}